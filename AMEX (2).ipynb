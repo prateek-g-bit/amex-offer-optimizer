{
 "cells": [
  {
   "cell_type": "code",
   "execution_count": 1,
   "id": "1d2e0209-3ff7-4e89-aa0d-fd5d4d7ac172",
   "metadata": {},
   "outputs": [],
   "source": [
    "import pandas as pd\n",
    "import numpy as np\n",
    "import matplotlib.pyplot as plt\n",
    "%matplotlib inline\n",
    "import seaborn as sns"
   ]
  },
  {
   "cell_type": "code",
   "execution_count": 2,
   "id": "0a4fed94-b33e-49e6-a42c-9b4f3fc1252c",
   "metadata": {},
   "outputs": [],
   "source": [
    "df_train=pd.read_parquet('train_data.parquet')\n",
    "df_test=pd.read_parquet('test_data.parquet')"
   ]
  },
  {
   "cell_type": "code",
   "execution_count": 3,
   "id": "4cc34e39-3787-41df-9388-32cb1f463310",
   "metadata": {},
   "outputs": [],
   "source": [
    "# changing the datatype of multiple columns from object to numerical\n",
    "\n",
    "def obj_to_num(df,low,high,arr):\n",
    "    all_f_cols = [f'f{i}' for i in range(low, high+1)]\n",
    "    exclude_cols = arr\n",
    "    cols_to_convert = [col for col in all_f_cols if col not in exclude_cols]\n",
    "\n",
    "    df[cols_to_convert] = df[cols_to_convert].apply(pd.to_numeric, errors='coerce')\n",
    "\n",
    "    return df    "
   ]
  },
  {
   "cell_type": "code",
   "execution_count": 4,
   "id": "591c5c15-e803-459e-9551-3c8be88fa14c",
   "metadata": {},
   "outputs": [],
   "source": [
    "# one hot encoder function\n",
    "\n",
    "def one_hot(df,col):\n",
    "    df[col] = df[col].fillna('Unknown')  # or 'None'\n",
    "\n",
    "    encoded = pd.get_dummies(df[col], prefix=col)\n",
    "    \n",
    "    df = pd.concat([df, encoded], axis=1)\n",
    "    df.drop(columns=[col,f'{col}_Unknown'],inplace=True, errors='ignore')\n",
    "\n",
    "\n",
    "    return df    "
   ]
  },
  {
   "cell_type": "code",
   "execution_count": 5,
   "id": "fe203243-25be-4a25-a6bd-0d708902f483",
   "metadata": {},
   "outputs": [],
   "source": [
    "# changing data type to numerical for relevant columns\n",
    "\n",
    "df_train=obj_to_num(df_train,1,51,['f42','f48','f50'])\n",
    "df_train=obj_to_num(df_train,58,225,[])\n",
    "df_train=obj_to_num(df_train,226,366,['f349', 'f354'])\n",
    "\n",
    "# changing the datatype of dependent variable\n",
    "\n",
    "df_train['y'] = pd.to_numeric(df_train['y'], errors='coerce')\n",
    "\n",
    "df_train['f48'] = pd.to_numeric(df_train['f48'], errors='coerce')\n",
    "df_train['f349'] = pd.to_numeric(df_train['f349'], errors='coerce')"
   ]
  },
  {
   "cell_type": "code",
   "execution_count": 6,
   "id": "1a7e4813-5fff-40e2-98a4-713cb23def6c",
   "metadata": {},
   "outputs": [],
   "source": [
    "# changing data type to numerical for relevant columns\n",
    "\n",
    "df_test=obj_to_num(df_test,1,51,['f42','f48','f50'])\n",
    "df_test=obj_to_num(df_test,58,225,[])\n",
    "df_test=obj_to_num(df_test,226,366,['f349', 'f354'])\n",
    "\n",
    "# changing the datatype of dependent variable\n",
    "\n",
    "# df_train['y'] = pd.to_numeric(df_train['y'], errors='coerce')\n",
    "\n",
    "df_test['f48'] = pd.to_numeric(df_test['f48'], errors='coerce')\n",
    "df_test['f349'] = pd.to_numeric(df_test['f349'], errors='coerce')"
   ]
  },
  {
   "cell_type": "code",
   "execution_count": 7,
   "id": "908c9d98-763f-4c45-8710-e1aa5b77c440",
   "metadata": {},
   "outputs": [],
   "source": [
    "df_test = one_hot(df_test, 'f42')\n",
    "df_train = one_hot(df_train, 'f42')"
   ]
  },
  {
   "cell_type": "code",
   "execution_count": 8,
   "id": "85b10073-0c9a-4d9c-8283-126dc77a3369",
   "metadata": {},
   "outputs": [],
   "source": [
    "\n",
    "df_test = one_hot(df_test, 'f54')\n",
    "df_test = one_hot(df_test, 'f55')\n",
    "df_test = one_hot(df_test, 'f56')\n",
    "df_test = one_hot(df_test, 'f57')"
   ]
  },
  {
   "cell_type": "code",
   "execution_count": 9,
   "id": "afaeecc2-bfe5-4881-8cc6-c197ada7cefa",
   "metadata": {},
   "outputs": [],
   "source": [
    "\n",
    "df_train = one_hot(df_train, 'f54')\n",
    "df_train = one_hot(df_train, 'f55')\n",
    "df_train = one_hot(df_train, 'f56')\n",
    "df_train = one_hot(df_train, 'f57')"
   ]
  },
  {
   "cell_type": "code",
   "execution_count": 10,
   "id": "fabaadde-cbad-4cdd-acaa-fa04b10d1ff2",
   "metadata": {},
   "outputs": [],
   "source": [
    "df_train['f53'] = df_train['f53'].map({'NY': 1, 'NN': 0})\n",
    "# df['your_column'] = df['your_column'].fillna(0)  # or .fillna(-1) if you want to distinguish None\n",
    "\n",
    "df_train['f53'] = df_train['f53'].replace({None: np.nan})"
   ]
  },
  {
   "cell_type": "code",
   "execution_count": 11,
   "id": "ddeb0f76-76da-466f-988f-6f974775e261",
   "metadata": {},
   "outputs": [
    {
     "name": "stderr",
     "output_type": "stream",
     "text": [
      "C:\\Users\\91637\\AppData\\Local\\Temp\\ipykernel_39044\\1332517543.py:15: FutureWarning: Downcasting behavior in `replace` is deprecated and will be removed in a future version. To retain the old behavior, explicitly call `result.infer_objects(copy=False)`. To opt-in to the future behavior, set `pd.set_option('future.no_silent_downcasting', True)`\n",
      "  df_train['f354'] = df_train['f354'].replace({\n"
     ]
    }
   ],
   "source": [
    "## changin the data type with binary type categorical data\n",
    "\n",
    "df_train['f50'] = df_train['f50'].map({'Y': 1, 'N': 0})\n",
    "# df['your_column'] = df['your_column'].fillna(0)  # or .fillna(-1) if you want to distinguish None\n",
    "\n",
    "df_train['f50'] = df_train['f50'].replace({None: np.nan})\n",
    "\n",
    "\n",
    "df_train['f52'] = df_train['f52'].map({'Y': 1, 'N': 0})\n",
    "# df['your_column'] = df['your_column'].fillna(0)  # or .fillna(-1) if you want to distinguish None\n",
    "\n",
    "df_train['f52'] = df_train['f52'].replace({None: np.nan})\n",
    "\n",
    "\n",
    "df_train['f354'] = df_train['f354'].replace({\n",
    "    'Phase_1': 0,\n",
    "    'Rest': 1,\n",
    "    None: np.nan  # Explicitly convert None to NaN\n",
    "})\n"
   ]
  },
  {
   "cell_type": "code",
   "execution_count": 12,
   "id": "4e986997-d3a4-4a4e-ad30-9766f7d00f8b",
   "metadata": {},
   "outputs": [
    {
     "name": "stderr",
     "output_type": "stream",
     "text": [
      "C:\\Users\\91637\\AppData\\Local\\Temp\\ipykernel_39044\\3356271153.py:15: FutureWarning: Downcasting behavior in `replace` is deprecated and will be removed in a future version. To retain the old behavior, explicitly call `result.infer_objects(copy=False)`. To opt-in to the future behavior, set `pd.set_option('future.no_silent_downcasting', True)`\n",
      "  df_test['f354'] = df_test['f354'].replace({\n"
     ]
    }
   ],
   "source": [
    "## changin the data type with binary type categorical data\n",
    "\n",
    "df_test['f50'] = df_test['f50'].map({'Y': 1, 'N': 0})\n",
    "#df['your_column'] = df['your_column'].fillna(0)  # or .fillna(-1) if you want to distinguish None\n",
    " \n",
    "df_test['f50'] = df_test['f50'].replace({None: np.nan})\n",
    "\n",
    "\n",
    "df_test['f52'] = df_test['f52'].map({'Y': 1, 'N': 0})\n",
    "# df['your_column'] = df['your_column'].fillna(0)  # or .fillna(-1) if you want to distinguish None\n",
    "\n",
    "df_test['f52'] = df_test['f52'].replace({None: np.nan})\n",
    "\n",
    "\n",
    "df_test['f354'] = df_test['f354'].replace({\n",
    "    'Phase_1': 0,\n",
    "    'Rest': 1,\n",
    "    None: np.nan  # Explicitly convert None to NaN\n",
    "})\n"
   ]
  },
  {
   "cell_type": "code",
   "execution_count": 13,
   "id": "cddefc6c-e0db-4fea-b202-faf5b3fadf5d",
   "metadata": {},
   "outputs": [],
   "source": [
    "df_test['f53'] = df_test['f53'].map({'NY': 1, 'NN': 0})\n",
    "# df['your_column'] = df['your_column'].fillna(0)  # or .fillna(-1) if you want to distinguish None\n",
    "\n",
    "df_test['f53'] = df_test['f53'].replace({None: np.nan})"
   ]
  },
  {
   "cell_type": "code",
   "execution_count": 14,
   "id": "5a791133-3a79-4b49-8974-d885228801a0",
   "metadata": {},
   "outputs": [],
   "source": [
    "# drops the columns with only unique values 0 and NaN\n",
    "\n",
    "def drop_too(df,low,high):\n",
    "    cols = [f\"f{i}\" for i in range(low, high+1)]\n",
    "    \n",
    "    # Drop columns where the only unique values are [0.0, NaN] or [0, np.nan]\n",
    "    cols_to_drop = [\n",
    "        col for col in cols \n",
    "        if set(df[col].dropna().unique()) == {0} and df[col].isnull().any()\n",
    "    ]\n",
    "    \n",
    "    # Now drop them from the DataFrame\n",
    "    df= df.drop(columns=cols_to_drop, inplace=True),\n",
    "    return df,print(f\"Dropped columns: {cols_to_drop}\")"
   ]
  },
  {
   "cell_type": "code",
   "execution_count": 15,
   "id": "5aa834f6-8dc2-462f-b4e1-45c38ba3b0f5",
   "metadata": {},
   "outputs": [
    {
     "name": "stdout",
     "output_type": "stream",
     "text": [
      "Dropped columns: ['f226', 'f229', 'f236', 'f238', 'f240', 'f243', 'f245', 'f246', 'f248', 'f249', 'f258', 'f259', 'f260', 'f262', 'f266', 'f267', 'f268', 'f270', 'f271', 'f277', 'f279', 'f281', 'f286', 'f287', 'f290', 'f291', 'f294', 'f295', 'f298', 'f300', 'f301', 'f303', 'f304', 'f307', 'f308', 'f309']\n"
     ]
    },
    {
     "data": {
      "text/plain": [
       "((None,), None)"
      ]
     },
     "execution_count": 15,
     "metadata": {},
     "output_type": "execute_result"
    }
   ],
   "source": [
    "drop_too(df_train,226,309)"
   ]
  },
  {
   "cell_type": "code",
   "execution_count": 16,
   "id": "afb0eec9-6895-4c2d-b5fa-bf1c4fbf213d",
   "metadata": {},
   "outputs": [
    {
     "name": "stdout",
     "output_type": "stream",
     "text": [
      "Dropped columns: ['f226', 'f229', 'f236', 'f238', 'f240', 'f243', 'f245', 'f246', 'f248', 'f249', 'f258', 'f259', 'f260', 'f262', 'f266', 'f267', 'f268', 'f270', 'f271', 'f277', 'f279', 'f281', 'f286', 'f287', 'f290', 'f291', 'f294', 'f295', 'f298', 'f300', 'f301', 'f303', 'f304', 'f307', 'f308', 'f309']\n"
     ]
    },
    {
     "data": {
      "text/plain": [
       "((None,), None)"
      ]
     },
     "execution_count": 16,
     "metadata": {},
     "output_type": "execute_result"
    }
   ],
   "source": [
    "drop_too(df_test,226,309)"
   ]
  },
  {
   "cell_type": "code",
   "execution_count": 17,
   "id": "4fed0457-0810-417e-b248-63e534bb0aea",
   "metadata": {},
   "outputs": [],
   "source": [
    "def bool_con(df):\n",
    "    bool_cols = df.select_dtypes(include='bool').columns\n",
    "    df[bool_cols] = df[bool_cols].astype(int)\n",
    "    return df"
   ]
  },
  {
   "cell_type": "code",
   "execution_count": 18,
   "id": "47e60e72-d3c2-46f2-adb4-22e25d55bccf",
   "metadata": {},
   "outputs": [],
   "source": [
    "df_train=bool_con(df_train)"
   ]
  },
  {
   "cell_type": "code",
   "execution_count": 19,
   "id": "9d31bce7-471f-4cee-910c-f95cd63a2074",
   "metadata": {},
   "outputs": [],
   "source": [
    "df_test=bool_con(df_test)"
   ]
  },
  {
   "cell_type": "code",
   "execution_count": 20,
   "id": "886e6822-814b-4e9e-939e-299b74df3200",
   "metadata": {},
   "outputs": [],
   "source": [
    "n=[]\n",
    "for col in df_train.columns:\n",
    "    if df_train[col].isna().sum()!=0:\n",
    "        n.append(col)"
   ]
  },
  {
   "cell_type": "code",
   "execution_count": 21,
   "id": "db852540-0d97-490a-b334-8856df79d502",
   "metadata": {},
   "outputs": [],
   "source": [
    "cols = [f\"f{i}\" for i in range(350,367)]\n",
    "df_subset = df_train[cols]\n"
   ]
  },
  {
   "cell_type": "code",
   "execution_count": 22,
   "id": "c1533db1-f3ef-4a3d-9c8d-883f0b9fe754",
   "metadata": {},
   "outputs": [],
   "source": [
    "correlation_matrix = df_subset.corr()\n"
   ]
  },
  {
   "cell_type": "code",
   "execution_count": 23,
   "id": "bf44065f-91c2-46c1-a80e-4d298df4aec5",
   "metadata": {},
   "outputs": [
    {
     "name": "stdout",
     "output_type": "stream",
     "text": [
      "          f350      f351      f352      f353      f354      f355      f356  \\\n",
      "f350  1.000000  0.001854  0.015302  0.003386 -0.080689  0.050839 -0.037611   \n",
      "f351  0.001854  1.000000  0.971857 -0.997692 -0.849731 -0.040182 -0.159658   \n",
      "f352  0.015302  0.971857  1.000000 -0.971037 -0.913275 -0.099951 -0.220746   \n",
      "f353  0.003386 -0.997692 -0.971037  1.000000  0.836708  0.066387  0.152398   \n",
      "f354 -0.080689 -0.849731 -0.913275  0.836708  1.000000  0.004609  0.250229   \n",
      "f355  0.050839 -0.040182 -0.099951  0.066387  0.004609  1.000000  0.371840   \n",
      "f356 -0.037611 -0.159658 -0.220746  0.152398  0.250229  0.371840  1.000000   \n",
      "f357 -0.007063 -0.108779 -0.146591  0.097910  0.170067  0.367852  0.378908   \n",
      "f358  0.017147 -0.978835 -0.912513  0.981429  0.744462 -0.001813  0.004124   \n",
      "f359  0.000090 -0.004958 -0.004923  0.004992  0.004070  0.001271 -0.000376   \n",
      "f360       NaN       NaN       NaN       NaN       NaN       NaN       NaN   \n",
      "f361  0.015752  0.026884  0.026982 -0.024673 -0.026702 -0.019145 -0.013152   \n",
      "f362  0.012864  0.047918  0.051056 -0.045092 -0.054118 -0.044771 -0.020179   \n",
      "f363 -0.002161  0.037973  0.041509 -0.036350 -0.043702 -0.025979  0.006682   \n",
      "f364  0.010080 -0.025444 -0.016858  0.027106  0.019905 -0.017171 -0.018635   \n",
      "f365 -0.010434  0.012595  0.024454 -0.010991 -0.025286 -0.038941 -0.027033   \n",
      "f366 -0.005935  0.032996  0.039446 -0.031398 -0.044233 -0.028002 -0.001900   \n",
      "\n",
      "          f357      f358      f359  f360      f361      f362      f363  \\\n",
      "f350 -0.007063  0.017147  0.000090   NaN  0.015752  0.012864 -0.002161   \n",
      "f351 -0.108779 -0.978835 -0.004958   NaN  0.026884  0.047918  0.037973   \n",
      "f352 -0.146591 -0.912513 -0.004923   NaN  0.026982  0.051056  0.041509   \n",
      "f353  0.097910  0.981429  0.004992   NaN -0.024673 -0.045092 -0.036350   \n",
      "f354  0.170067  0.744462  0.004070   NaN -0.026702 -0.054118 -0.043702   \n",
      "f355  0.367852 -0.001813  0.001271   NaN -0.019145 -0.044771 -0.025979   \n",
      "f356  0.378908  0.004124 -0.000376   NaN -0.013152 -0.020179  0.006682   \n",
      "f357  1.000000  0.002503  0.000636   NaN -0.003404  0.003965  0.017328   \n",
      "f358  0.002503  1.000000  0.004795   NaN -0.023044 -0.040919 -0.033012   \n",
      "f359  0.000636  0.004795  1.000000   NaN -0.013197 -0.012729 -0.012436   \n",
      "f360       NaN       NaN       NaN   NaN       NaN       NaN       NaN   \n",
      "f361 -0.003404 -0.023044 -0.013197   NaN  1.000000  0.351371 -0.028680   \n",
      "f362  0.003965 -0.040919 -0.012729   NaN  0.351371  1.000000  0.432668   \n",
      "f363  0.017328 -0.033012 -0.012436   NaN -0.028680  0.432668  1.000000   \n",
      "f364 -0.007720  0.032154 -0.012288   NaN  0.495927  0.114486 -0.031851   \n",
      "f365 -0.001977 -0.001853 -0.012843   NaN  0.084791  0.470709  0.537263   \n",
      "f366  0.011420 -0.025956 -0.012844   NaN -0.036996  0.456983  0.808289   \n",
      "\n",
      "          f364      f365      f366  \n",
      "f350  0.010080 -0.010434 -0.005935  \n",
      "f351 -0.025444  0.012595  0.032996  \n",
      "f352 -0.016858  0.024454  0.039446  \n",
      "f353  0.027106 -0.010991 -0.031398  \n",
      "f354  0.019905 -0.025286 -0.044233  \n",
      "f355 -0.017171 -0.038941 -0.028002  \n",
      "f356 -0.018635 -0.027033 -0.001900  \n",
      "f357 -0.007720 -0.001977  0.011420  \n",
      "f358  0.032154 -0.001853 -0.025956  \n",
      "f359 -0.012288 -0.012843 -0.012844  \n",
      "f360       NaN       NaN       NaN  \n",
      "f361  0.495927  0.084791 -0.036996  \n",
      "f362  0.114486  0.470709  0.456983  \n",
      "f363 -0.031851  0.537263  0.808289  \n",
      "f364  1.000000  0.245733 -0.036827  \n",
      "f365  0.245733  1.000000  0.660583  \n",
      "f366 -0.036827  0.660583  1.000000  \n"
     ]
    }
   ],
   "source": [
    "print(correlation_matrix)\n"
   ]
  },
  {
   "cell_type": "code",
   "execution_count": 24,
   "id": "c3866dc6-269a-4a17-9a77-03f1158b6f55",
   "metadata": {},
   "outputs": [
    {
     "data": {
      "image/png": "[encoded data removed]",
      "text/plain": [
       "<Figure size 3000x2000 with 2 Axes>"
      ]
     },
     "metadata": {},
     "output_type": "display_data"
    }
   ],
   "source": [
    "import seaborn as sns\n",
    "import matplotlib.pyplot as plt\n",
    "\n",
    "plt.figure(figsize=(30,20))\n",
    "sns.heatmap(correlation_matrix, annot=True, cmap='coolwarm', fmt=\".2f\")\n",
    "plt.title(\"Correlation Matrix: f15 to f21\")\n",
    "plt.show()\n"
   ]
  },
  {
   "cell_type": "code",
   "execution_count": 25,
   "id": "62646d7f-1715-44a4-8724-8e2d6a01d451",
   "metadata": {},
   "outputs": [],
   "source": [
    "#f147"
   ]
  },
  {
   "cell_type": "code",
   "execution_count": 26,
   "id": "6868e151-7140-44cf-9153-fa0a0e1f98ea",
   "metadata": {},
   "outputs": [],
   "source": [
    "cols_to_drop = ['f59', 'f76']\n",
    "df_train.drop(columns=[col for col in cols_to_drop if col in df_train.columns], inplace=True)\n"
   ]
  },
  {
   "cell_type": "code",
   "execution_count": 27,
   "id": "4aa4d294-97ce-42fa-bc0c-f74ae49b45a2",
   "metadata": {},
   "outputs": [],
   "source": [
    "cols_to_drop = ['f59', 'f76']\n",
    "df_test.drop(columns=[col for col in cols_to_drop if col in df_test.columns], inplace=True)\n"
   ]
  },
  {
   "cell_type": "code",
   "execution_count": 28,
   "id": "b7c54a24-1fdb-4be2-b9a8-588048480b8c",
   "metadata": {},
   "outputs": [],
   "source": [
    "cols_to_drop = ['f123', 'f124','f125','f126']\n",
    "df_test.drop(columns=[col for col in cols_to_drop if col in df_test.columns], inplace=True)\n"
   ]
  },
  {
   "cell_type": "code",
   "execution_count": 29,
   "id": "9dec24b4-b753-404a-a0f2-2edf5888c88a",
   "metadata": {},
   "outputs": [],
   "source": [
    "cols_to_drop = ['f123', 'f124','f125','f126']\n",
    "df_train.drop(columns=[col for col in cols_to_drop if col in df_train.columns], inplace=True)\n"
   ]
  },
  {
   "cell_type": "code",
   "execution_count": 30,
   "id": "40cb6e47-8efc-4782-afd5-b9d8fc5e76f0",
   "metadata": {},
   "outputs": [],
   "source": [
    "cols_to_drop = ['f146']\n",
    "df_test.drop(columns=[col for col in cols_to_drop if col in df_test.columns], inplace=True)\n"
   ]
  },
  {
   "cell_type": "code",
   "execution_count": 31,
   "id": "9d99a707-7687-493b-9731-09e714a4ea25",
   "metadata": {},
   "outputs": [],
   "source": [
    "cols_to_drop = ['f146']\n",
    "df_train.drop(columns=[col for col in cols_to_drop if col in df_train.columns], inplace=True)\n"
   ]
  },
  {
   "cell_type": "code",
   "execution_count": 32,
   "id": "81babaa1-cfcf-4e25-b57f-dd35cf3fbc4e",
   "metadata": {},
   "outputs": [],
   "source": [
    "cols_to_drop = ['f199','f200','f201']\n",
    "df_train.drop(columns=[col for col in cols_to_drop if col in df_train.columns], inplace=True)\n",
    "cols_to_drop = ['f199','f200','f201']\n",
    "df_test.drop(columns=[col for col in cols_to_drop if col in df_test.columns], inplace=True)\n",
    "\n"
   ]
  },
  {
   "cell_type": "code",
   "execution_count": 33,
   "id": "7b2ae069-4ce1-496b-94e1-926546444a0c",
   "metadata": {},
   "outputs": [],
   "source": [
    "cols_to_drop = ['f310']\n",
    "df_train.drop(columns=[col for col in cols_to_drop if col in df_train.columns], inplace=True)\n",
    "cols_to_drop = ['f310']\n",
    "df_test.drop(columns=[col for col in cols_to_drop if col in df_test.columns], inplace=True)"
   ]
  },
  {
   "cell_type": "code",
   "execution_count": 34,
   "id": "8d1de03f-1c89-480f-a5f0-3844b6ead0f6",
   "metadata": {},
   "outputs": [],
   "source": [
    "cols_to_drop = ['f332']\n",
    "df_train.drop(columns=[col for col in cols_to_drop if col in df_train.columns], inplace=True)\n",
    "cols_to_drop = ['f332']\n",
    "df_test.drop(columns=[col for col in cols_to_drop if col in df_test.columns], inplace=True)"
   ]
  },
  {
   "cell_type": "code",
   "execution_count": 35,
   "id": "6a580aeb-3dca-4616-971c-6b61e889712e",
   "metadata": {},
   "outputs": [],
   "source": [
    "cols_to_drop = ['f353']\n",
    "df_train.drop(columns=[col for col in cols_to_drop if col in df_train.columns], inplace=True)\n",
    "cols_to_drop = ['f353']\n",
    "df_test.drop(columns=[col for col in cols_to_drop if col in df_test.columns], inplace=True)"
   ]
  },
  {
   "cell_type": "code",
   "execution_count": 36,
   "id": "d4274bbc-3dc0-4286-be64-e152614ce5f3",
   "metadata": {},
   "outputs": [],
   "source": [
    "# print(n)"
   ]
  },
  {
   "cell_type": "code",
   "execution_count": 37,
   "id": "17cabba1-b992-48a5-b950-188c2013bf71",
   "metadata": {},
   "outputs": [],
   "source": [
    "# m=[]\n",
    "# for col in df_test.columns:\n",
    "#     if df_test[col].isna().sum()!=0:\n",
    "#         m.append(col)"
   ]
  },
  {
   "cell_type": "code",
   "execution_count": 38,
   "id": "4eb9e1b1-1d8b-4c2b-b2a3-5d25ed11d4f2",
   "metadata": {},
   "outputs": [],
   "source": []
  },
  {
   "cell_type": "code",
   "execution_count": 44,
   "id": "3adbdeda-2198-49a1-83e1-a80374f5c984",
   "metadata": {},
   "outputs": [],
   "source": [
    "# df_train['id4'] = pd.to_datetime(df_train['id4'], errors='coerce')\n",
    "\n",
    "df_train['id4'] = pd.to_datetime(df_train['id4'], format='%Y-%m-%d %H:%M:%S.%f', errors='coerce')\n",
    "df_test['id4'] = pd.to_datetime(df_test['id4'], format='%Y-%m-%d %H:%M:%S.%f', errors='coerce')\n",
    "df_train['id5'] = pd.to_datetime(df_train['id5'], format='%Y-%m-%d', errors='coerce')\n",
    "df_test['id5'] = pd.to_datetime(df_test['id5'], format='%Y-%m-%d', errors='coerce')"
   ]
  },
  {
   "cell_type": "code",
   "execution_count": 45,
   "id": "a4065b16-578e-4c80-943c-d90ed6fcb06a",
   "metadata": {},
   "outputs": [
    {
     "data": {
      "text/plain": [
       "(770164, 346)"
      ]
     },
     "execution_count": 45,
     "metadata": {},
     "output_type": "execute_result"
    }
   ],
   "source": [
    "df_train.shape"
   ]
  },
  {
   "cell_type": "code",
   "execution_count": 46,
   "id": "dd4fd2e0-925f-4720-a485-ca7c6b332c77",
   "metadata": {},
   "outputs": [],
   "source": [
    "missing_values = {col: df_train[col].isna().sum() for col in df_train.columns if df_train[col].isna().sum() > 0}\n"
   ]
  },
  {
   "cell_type": "code",
   "execution_count": 47,
   "id": "1f9b90c3-8ad7-46ea-b858-ef93715d596a",
   "metadata": {},
   "outputs": [
    {
     "data": {
      "text/plain": [
       "0.24756155831744928"
      ]
     },
     "execution_count": 47,
     "metadata": {},
     "output_type": "execute_result"
    }
   ],
   "source": [
    "190663/770164"
   ]
  },
  {
   "cell_type": "code",
   "execution_count": 48,
   "id": "8de44e5d-f423-4fe5-b4b0-c7ce96de1d6a",
   "metadata": {},
   "outputs": [],
   "source": [
    "# missing_values"
   ]
  },
  {
   "cell_type": "code",
   "execution_count": 49,
   "id": "9139dea0-9fe3-405d-81db-abceb3a35e94",
   "metadata": {},
   "outputs": [
    {
     "data": {
      "text/plain": [
       "count    5.795010e+05\n",
       "mean     1.294729e+04\n",
       "std      5.770378e+04\n",
       "min      0.000000e+00\n",
       "25%      0.000000e+00\n",
       "50%      0.000000e+00\n",
       "75%      0.000000e+00\n",
       "max      5.206269e+06\n",
       "Name: f49, dtype: float64"
      ]
     },
     "execution_count": 49,
     "metadata": {},
     "output_type": "execute_result"
    }
   ],
   "source": [
    "df_train['f49'].describe()"
   ]
  },
  {
   "cell_type": "code",
   "execution_count": 50,
   "id": "50defed9-1bce-4906-9bc7-aa94d4afaa39",
   "metadata": {},
   "outputs": [
    {
     "data": {
      "text/plain": [
       "696"
      ]
     },
     "execution_count": 50,
     "metadata": {},
     "output_type": "execute_result"
    }
   ],
   "source": [
    "770164-769468"
   ]
  },
  {
   "cell_type": "code",
   "execution_count": 51,
   "id": "0eb013b4-a26e-4ebb-84a7-3146a58fca2b",
   "metadata": {},
   "outputs": [
    {
     "data": {
      "text/plain": [
       "array([nan,  3.,  4.,  1.,  5.,  2.,  6.,  9.])"
      ]
     },
     "execution_count": 51,
     "metadata": {},
     "output_type": "execute_result"
    }
   ],
   "source": [
    "df_train['f13'].unique()"
   ]
  },
  {
   "cell_type": "code",
   "execution_count": 52,
   "id": "63936a38-f994-4603-852a-149f9ffe3ae2",
   "metadata": {},
   "outputs": [],
   "source": [
    "# Identify columns to drop from train\n",
    "threshold = 0.995\n",
    "drop_cols = df_train.columns[df_train.isna().mean() > threshold]\n",
    "\n",
    "# Drop from both train and test\n",
    "df_train = df_train.drop(columns=drop_cols)\n",
    "df_test = df_test.drop(columns=drop_cols)\n"
   ]
  },
  {
   "cell_type": "code",
   "execution_count": 53,
   "id": "df3a916b-7cd8-487d-9db1-25027488fd89",
   "metadata": {},
   "outputs": [],
   "source": [
    "for col in df_train.columns:\n",
    "    if df_train[col].dtype==bool:\n",
    "        print(col)"
   ]
  },
  {
   "cell_type": "code",
   "execution_count": 54,
   "id": "3c7b053e-1724-475a-a7a6-3ea62f3fff20",
   "metadata": {},
   "outputs": [],
   "source": [
    "# Function to find binary-like columns\n",
    "def find_binary_columns(df):\n",
    "    binary_cols = []\n",
    "    for col in df.columns:\n",
    "        unique_vals = df[col].dropna().unique()\n",
    "        if set(unique_vals).issubset({0, 1}):\n",
    "            binary_cols.append(col)\n",
    "    return binary_cols\n",
    "\n",
    "# Step 1: Identify binary columns\n",
    "binary_columns = find_binary_columns(df_train)\n",
    "\n",
    "# Step 2: Select non-binary columns\n",
    "non_binary_columns = [col for col in df_train.columns if col not in binary_columns]\n",
    "extra_cols = [f\"f{i}\" for i in range(226, 310) if f\"f{i}\" in df_train.columns]\n",
    "\n",
    "# Step 3: Combine both lists\n",
    "final_cols_to_exclude = binary_columns + extra_cols\n",
    "# Step 3: Calculate missing rates for non-binary columns only\n",
    "# missing_rate = df_train[non_binary_columns].isnull().mean()\n",
    "\n",
    "# # Step 4: Group columns by missing rate thresholds\n",
    "# low_missing = missing_rate[missing_rate < 0.05].index.tolist()\n",
    "# med_missing = missing_rate[(missing_rate >= 0.05) & (missing_rate < 0.2)].index.tolist()\n",
    "# high_missing = missing_rate[missing_rate >= 0.2].index.tolist()\n"
   ]
  },
  {
   "cell_type": "code",
   "execution_count": 55,
   "id": "9cdad941-d5c8-4bd9-9c8a-525c9659429f",
   "metadata": {},
   "outputs": [],
   "source": [
    "# low_missing"
   ]
  },
  {
   "cell_type": "code",
   "execution_count": 56,
   "id": "ef31e867-5944-4103-a05c-871bc950ca8f",
   "metadata": {},
   "outputs": [],
   "source": [
    "# for col in df_test.columns:\n",
    "#     if col not in final_cols_to_exclude and df_test[col].isna().any():\n",
    "#         if col in df_train.columns:\n",
    "#             mean_val = df_train[col].mean()\n",
    "#             df_test[col].fillna(mean_val, inplace=True)\n"
   ]
  },
  {
   "cell_type": "code",
   "execution_count": 57,
   "id": "55e3beba-5710-47f6-96de-1bc7b7374964",
   "metadata": {},
   "outputs": [],
   "source": [
    "# for col in df_train.columns:\n",
    "#     if col not in final_cols_to_exclude and df_train[col].isna().any():\n",
    "#         df_train[col].fillna(df_train[col].mean(), inplace=True)\n"
   ]
  },
  {
   "cell_type": "code",
   "execution_count": 58,
   "id": "e2fb5e1a-f1ae-48ea-aacf-a98fb7f4ba04",
   "metadata": {},
   "outputs": [],
   "source": [
    "missing_values = {col: df_train[col].isna().sum() for col in df_train.columns if df_train[col].isna().sum() > 0}\n"
   ]
  },
  {
   "cell_type": "code",
   "execution_count": 59,
   "id": "e4c88706-9ea9-49de-b8d1-210635e01cd9",
   "metadata": {},
   "outputs": [
    {
     "data": {
      "text/plain": [
       "{'f1': np.int64(491658),\n",
       " 'f2': np.int64(447192),\n",
       " 'f3': np.int64(661602),\n",
       " 'f4': np.int64(701295),\n",
       " 'f5': np.int64(231810),\n",
       " 'f6': np.int64(150109),\n",
       " 'f7': np.int64(367438),\n",
       " 'f8': np.int64(234515),\n",
       " 'f9': np.int64(284258),\n",
       " 'f10': np.int64(253665),\n",
       " 'f11': np.int64(356562),\n",
       " 'f12': np.int64(242372),\n",
       " 'f22': np.int64(290324),\n",
       " 'f23': np.int64(290324),\n",
       " 'f24': np.int64(290324),\n",
       " 'f25': np.int64(290324),\n",
       " 'f26': np.int64(290324),\n",
       " 'f27': np.int64(290324),\n",
       " 'f28': np.int64(38651),\n",
       " 'f29': np.int64(545869),\n",
       " 'f30': np.int64(75023),\n",
       " 'f31': np.int64(272616),\n",
       " 'f32': np.int64(263374),\n",
       " 'f33': np.int64(741697),\n",
       " 'f35': np.int64(559275),\n",
       " 'f36': np.int64(731348),\n",
       " 'f38': np.int64(16893),\n",
       " 'f39': np.int64(230721),\n",
       " 'f40': np.int64(564559),\n",
       " 'f41': np.int64(183399),\n",
       " 'f43': np.int64(319428),\n",
       " 'f44': np.int64(190663),\n",
       " 'f45': np.int64(190663),\n",
       " 'f46': np.int64(190663),\n",
       " 'f47': np.int64(190663),\n",
       " 'f48': np.int64(503711),\n",
       " 'f49': np.int64(190663),\n",
       " 'f50': np.int64(190663),\n",
       " 'f51': np.int64(190663),\n",
       " 'f52': np.int64(190663),\n",
       " 'f53': np.int64(254467),\n",
       " 'f58': np.int64(254467),\n",
       " 'f60': np.int64(8187),\n",
       " 'f61': np.int64(8185),\n",
       " 'f62': np.int64(8185),\n",
       " 'f63': np.int64(8185),\n",
       " 'f64': np.int64(750217),\n",
       " 'f65': np.int64(8185),\n",
       " 'f66': np.int64(750214),\n",
       " 'f67': np.int64(8193),\n",
       " 'f68': np.int64(8623),\n",
       " 'f69': np.int64(8236),\n",
       " 'f70': np.int64(750214),\n",
       " 'f71': np.int64(8185),\n",
       " 'f72': np.int64(8185),\n",
       " 'f73': np.int64(8196),\n",
       " 'f74': np.int64(8185),\n",
       " 'f75': np.int64(8185),\n",
       " 'f77': np.int64(8185),\n",
       " 'f78': np.int64(341333),\n",
       " 'f79': np.int64(736392),\n",
       " 'f81': np.int64(704638),\n",
       " 'f82': np.int64(519578),\n",
       " 'f83': np.int64(419414),\n",
       " 'f85': np.int64(35255),\n",
       " 'f86': np.int64(8185),\n",
       " 'f87': np.int64(8185),\n",
       " 'f88': np.int64(750214),\n",
       " 'f89': np.int64(8185),\n",
       " 'f90': np.int64(8185),\n",
       " 'f91': np.int64(8185),\n",
       " 'f92': np.int64(750214),\n",
       " 'f93': np.int64(8185),\n",
       " 'f94': np.int64(7703),\n",
       " 'f95': np.int64(7703),\n",
       " 'f96': np.int64(7703),\n",
       " 'f97': np.int64(7703),\n",
       " 'f98': np.int64(7703),\n",
       " 'f99': np.int64(7703),\n",
       " 'f100': np.int64(7703),\n",
       " 'f101': np.int64(7703),\n",
       " 'f102': np.int64(7703),\n",
       " 'f103': np.int64(7703),\n",
       " 'f104': np.int64(294368),\n",
       " 'f105': np.int64(12334),\n",
       " 'f106': np.int64(17397),\n",
       " 'f107': np.int64(85839),\n",
       " 'f108': np.int64(16928),\n",
       " 'f109': np.int64(11674),\n",
       " 'f110': np.int64(243537),\n",
       " 'f111': np.int64(53386),\n",
       " 'f113': np.int64(7703),\n",
       " 'f114': np.int64(722791),\n",
       " 'f115': np.int64(489026),\n",
       " 'f116': np.int64(580704),\n",
       " 'f117': np.int64(704405),\n",
       " 'f118': np.int64(729655),\n",
       " 'f119': np.int64(610686),\n",
       " 'f121': np.int64(691823),\n",
       " 'f127': np.int64(36814),\n",
       " 'f128': np.int64(36814),\n",
       " 'f129': np.int64(36814),\n",
       " 'f130': np.int64(96336),\n",
       " 'f131': np.int64(118562),\n",
       " 'f132': np.int64(38098),\n",
       " 'f133': np.int64(109124),\n",
       " 'f134': np.int64(81455),\n",
       " 'f137': np.int64(36844),\n",
       " 'f138': np.int64(75023),\n",
       " 'f139': np.int64(229732),\n",
       " 'f140': np.int64(217555),\n",
       " 'f141': np.int64(217555),\n",
       " 'f142': np.int64(217555),\n",
       " 'f143': np.int64(217555),\n",
       " 'f144': np.int64(217555),\n",
       " 'f145': np.int64(217555),\n",
       " 'f147': np.int64(36814),\n",
       " 'f148': np.int64(36814),\n",
       " 'f149': np.int64(36814),\n",
       " 'f150': np.int64(75023),\n",
       " 'f151': np.int64(160156),\n",
       " 'f152': np.int64(40714),\n",
       " 'f153': np.int64(40714),\n",
       " 'f154': np.int64(751696),\n",
       " 'f155': np.int64(40714),\n",
       " 'f156': np.int64(40714),\n",
       " 'f157': np.int64(40714),\n",
       " 'f158': np.int64(40714),\n",
       " 'f159': np.int64(40714),\n",
       " 'f160': np.int64(40714),\n",
       " 'f161': np.int64(40714),\n",
       " 'f162': np.int64(40714),\n",
       " 'f163': np.int64(40714),\n",
       " 'f164': np.int64(40714),\n",
       " 'f165': np.int64(40714),\n",
       " 'f166': np.int64(40714),\n",
       " 'f167': np.int64(40714),\n",
       " 'f168': np.int64(40714),\n",
       " 'f169': np.int64(40714),\n",
       " 'f170': np.int64(40714),\n",
       " 'f171': np.int64(40714),\n",
       " 'f172': np.int64(40714),\n",
       " 'f173': np.int64(40714),\n",
       " 'f174': np.int64(40714),\n",
       " 'f175': np.int64(40714),\n",
       " 'f176': np.int64(751696),\n",
       " 'f177': np.int64(40714),\n",
       " 'f178': np.int64(40714),\n",
       " 'f179': np.int64(40714),\n",
       " 'f180': np.int64(40714),\n",
       " 'f181': np.int64(40714),\n",
       " 'f182': np.int64(40714),\n",
       " 'f183': np.int64(40714),\n",
       " 'f184': np.int64(40714),\n",
       " 'f185': np.int64(40714),\n",
       " 'f186': np.int64(40714),\n",
       " 'f187': np.int64(542769),\n",
       " 'f188': np.int64(542769),\n",
       " 'f189': np.int64(765257),\n",
       " 'f190': np.int64(542769),\n",
       " 'f191': np.int64(542769),\n",
       " 'f192': np.int64(542769),\n",
       " 'f193': np.int64(542769),\n",
       " 'f194': np.int64(542769),\n",
       " 'f195': np.int64(542769),\n",
       " 'f196': np.int64(542769),\n",
       " 'f197': np.int64(542769),\n",
       " 'f198': np.int64(41158),\n",
       " 'f202': np.int64(7643),\n",
       " 'f203': np.int64(7643),\n",
       " 'f204': np.int64(7643),\n",
       " 'f205': np.int64(753131),\n",
       " 'f206': np.int64(492234),\n",
       " 'f207': np.int64(492234),\n",
       " 'f208': np.int64(422656),\n",
       " 'f209': np.int64(422656),\n",
       " 'f210': np.int64(422656),\n",
       " 'f211': np.int64(422656),\n",
       " 'f212': np.int64(422656),\n",
       " 'f213': np.int64(68821),\n",
       " 'f214': np.int64(68821),\n",
       " 'f215': np.int64(68821),\n",
       " 'f216': np.int64(71026),\n",
       " 'f217': np.int64(274151),\n",
       " 'f218': np.int64(579496),\n",
       " 'f219': np.int64(281290),\n",
       " 'f220': np.int64(746072),\n",
       " 'f221': np.int64(762406),\n",
       " 'f222': np.int64(283575),\n",
       " 'f223': np.int64(18),\n",
       " 'f224': np.int64(18),\n",
       " 'f225': np.int64(18),\n",
       " 'f227': np.int64(18),\n",
       " 'f228': np.int64(18),\n",
       " 'f230': np.int64(18),\n",
       " 'f231': np.int64(18),\n",
       " 'f232': np.int64(18),\n",
       " 'f233': np.int64(18),\n",
       " 'f234': np.int64(18),\n",
       " 'f235': np.int64(18),\n",
       " 'f237': np.int64(18),\n",
       " 'f239': np.int64(18),\n",
       " 'f241': np.int64(18),\n",
       " 'f242': np.int64(18),\n",
       " 'f244': np.int64(18),\n",
       " 'f247': np.int64(18),\n",
       " 'f250': np.int64(18),\n",
       " 'f251': np.int64(18),\n",
       " 'f252': np.int64(18),\n",
       " 'f253': np.int64(18),\n",
       " 'f254': np.int64(18),\n",
       " 'f255': np.int64(18),\n",
       " 'f256': np.int64(18),\n",
       " 'f257': np.int64(18),\n",
       " 'f261': np.int64(18),\n",
       " 'f263': np.int64(18),\n",
       " 'f264': np.int64(18),\n",
       " 'f265': np.int64(18),\n",
       " 'f269': np.int64(18),\n",
       " 'f272': np.int64(18),\n",
       " 'f273': np.int64(18),\n",
       " 'f274': np.int64(18),\n",
       " 'f275': np.int64(18),\n",
       " 'f276': np.int64(18),\n",
       " 'f278': np.int64(18),\n",
       " 'f280': np.int64(18),\n",
       " 'f282': np.int64(18),\n",
       " 'f283': np.int64(18),\n",
       " 'f284': np.int64(18),\n",
       " 'f285': np.int64(18),\n",
       " 'f288': np.int64(18),\n",
       " 'f289': np.int64(18),\n",
       " 'f292': np.int64(18),\n",
       " 'f293': np.int64(18),\n",
       " 'f296': np.int64(18),\n",
       " 'f297': np.int64(18),\n",
       " 'f299': np.int64(18),\n",
       " 'f302': np.int64(18),\n",
       " 'f305': np.int64(18),\n",
       " 'f306': np.int64(18),\n",
       " 'f311': np.int64(195737),\n",
       " 'f312': np.int64(195737),\n",
       " 'f313': np.int64(192403),\n",
       " 'f314': np.int64(182430),\n",
       " 'f315': np.int64(182430),\n",
       " 'f316': np.int64(182430),\n",
       " 'f317': np.int64(182430),\n",
       " 'f318': np.int64(182430),\n",
       " 'f319': np.int64(182430),\n",
       " 'f320': np.int64(182430),\n",
       " 'f321': np.int64(182430),\n",
       " 'f322': np.int64(182430),\n",
       " 'f323': np.int64(182430),\n",
       " 'f324': np.int64(182430),\n",
       " 'f325': np.int64(195753),\n",
       " 'f326': np.int64(195738),\n",
       " 'f327': np.int64(195737),\n",
       " 'f328': np.int64(195737),\n",
       " 'f329': np.int64(195753),\n",
       " 'f330': np.int64(195738),\n",
       " 'f331': np.int64(195737),\n",
       " 'f333': np.int64(18),\n",
       " 'f334': np.int64(18),\n",
       " 'f335': np.int64(18),\n",
       " 'f336': np.int64(132103),\n",
       " 'f337': np.int64(130900),\n",
       " 'f338': np.int64(129921),\n",
       " 'f339': np.int64(129894),\n",
       " 'f340': np.int64(129894),\n",
       " 'f341': np.int64(132302),\n",
       " 'f342': np.int64(131255),\n",
       " 'f343': np.int64(130276),\n",
       " 'f344': np.int64(129880),\n",
       " 'f345': np.int64(129880),\n",
       " 'f346': np.int64(129880),\n",
       " 'f347': np.int64(197029),\n",
       " 'f348': np.int64(197029),\n",
       " 'f351': np.int64(141991),\n",
       " 'f352': np.int64(141991),\n",
       " 'f354': np.int64(141991),\n",
       " 'f355': np.int64(182430),\n",
       " 'f356': np.int64(182430),\n",
       " 'f357': np.int64(182430),\n",
       " 'f358': np.int64(141991),\n",
       " 'f359': np.int64(42989),\n",
       " 'f361': np.int64(115752),\n",
       " 'f362': np.int64(115752),\n",
       " 'f363': np.int64(115752),\n",
       " 'f364': np.int64(108314),\n",
       " 'f365': np.int64(108314),\n",
       " 'f366': np.int64(108314)}"
      ]
     },
     "execution_count": 59,
     "metadata": {},
     "output_type": "execute_result"
    }
   ],
   "source": [
    "missing_values\n"
   ]
  },
  {
   "cell_type": "markdown",
   "id": "5bdc8710-e7cd-4235-8487-fdc181958397",
   "metadata": {},
   "source": [
    "Feature Engineering\n"
   ]
  },
  {
   "cell_type": "code",
   "execution_count": 60,
   "id": "613fbcff-98ae-4f93-8b28-d8abffe67bfa",
   "metadata": {},
   "outputs": [],
   "source": [
    "event_features=pd.read_csv('event_features.csv')\n",
    "offer_features=pd.read_csv('offer_features.csv')\n"
   ]
  },
  {
   "cell_type": "code",
   "execution_count": 61,
   "id": "efeabbba-3a2c-4f1b-8420-816beb8c4b22",
   "metadata": {},
   "outputs": [],
   "source": [
    "df_train['id3'] = df_train['id3'].astype(str)\n",
    "offer_features['id3'] = offer_features['id3'].astype(str)\n"
   ]
  },
  {
   "cell_type": "code",
   "execution_count": 62,
   "id": "c3d3a855-c3d9-4b64-821e-86d0618ef281",
   "metadata": {},
   "outputs": [],
   "source": [
    "df_train = df_train.merge(offer_features, on='id3', how='left')\n"
   ]
  },
  {
   "cell_type": "code",
   "execution_count": 63,
   "id": "b5594ff3-dcc8-43ef-8b15-44b68e167022",
   "metadata": {},
   "outputs": [],
   "source": [
    "df_test=df_test.merge(offer_features, on='id3', how='left')"
   ]
  },
  {
   "cell_type": "code",
   "execution_count": 64,
   "id": "3200a78b-5a5a-41ee-8ae2-1313c06eb671",
   "metadata": {},
   "outputs": [],
   "source": [
    "df_train['id3'] = df_train['id3'].astype(str)\n",
    "event_features['id3'] = event_features['id3'].astype(str)\n"
   ]
  },
  {
   "cell_type": "code",
   "execution_count": 65,
   "id": "ce32487e-782e-4485-b53c-a4dc310b193a",
   "metadata": {},
   "outputs": [],
   "source": [
    "df_train = df_train.merge(event_features, on='id3', how='left')\n",
    "df_test = df_test.merge(event_features, on='id3', how='left')\n"
   ]
  },
  {
   "cell_type": "code",
   "execution_count": 66,
   "id": "9f9fb1e2-b128-4b00-abcf-508dc5f787dd",
   "metadata": {},
   "outputs": [
    {
     "name": "stdout",
     "output_type": "stream",
     "text": [
      "<class 'pandas.core.frame.DataFrame'>\n",
      "RangeIndex: 770164 entries, 0 to 770163\n",
      "Columns: 494 entries, id1 to clicks_short\n",
      "dtypes: datetime64[ns](2), float64(450), int64(39), object(3)\n",
      "memory usage: 2.8+ GB\n"
     ]
    }
   ],
   "source": [
    "df_train.info()"
   ]
  },
  {
   "cell_type": "code",
   "execution_count": 67,
   "id": "4b6c5dbc-0de2-413e-ab11-28206e1d0aa5",
   "metadata": {},
   "outputs": [
    {
     "name": "stdout",
     "output_type": "stream",
     "text": [
      "<class 'pandas.core.frame.DataFrame'>\n",
      "RangeIndex: 369301 entries, 0 to 369300\n",
      "Columns: 493 entries, id1 to clicks_short\n",
      "dtypes: datetime64[ns](2), float64(458), int64(30), object(3)\n",
      "memory usage: 1.4+ GB\n"
     ]
    }
   ],
   "source": [
    "df_test.info()"
   ]
  },
  {
   "cell_type": "code",
   "execution_count": 68,
   "id": "3d576dc9-7fd0-47a2-b58b-5886ef84c7fe",
   "metadata": {},
   "outputs": [
    {
     "name": "stdout",
     "output_type": "stream",
     "text": [
      "(770164, 494)\n",
      "Index(['id1', 'id2', 'id3', 'id4', 'id5', 'y', 'f1', 'f2', 'f3', 'f4',\n",
      "       ...\n",
      "       'num_unique_users', 'num_users_clicked', 'min_click_delay',\n",
      "       'max_click_delay', 'std_click_delay', 'clicks_immediate', 'clicks_long',\n",
      "       'clicks_medium', 'clicks_no_click', 'clicks_short'],\n",
      "      dtype='object', length=494)\n",
      "         id3  offer_duration_days  offer_competitiveness\n",
      "0  189706075                 29.0             -25.772727\n",
      "1      89227                181.0                    NaN\n",
      "2      35046                 29.0               2.500000\n",
      "3    6275451                 29.0              -5.190476\n",
      "4      78053                 29.0             -14.663366\n"
     ]
    }
   ],
   "source": [
    "print(df_train.shape)\n",
    "print(df_train.columns)\n",
    "print(df_train[['id3'] + [col for col in df_train.columns if 'offer_' in col or 'f377' in col]].head())\n"
   ]
  },
  {
   "cell_type": "code",
   "execution_count": 69,
   "id": "aa828009-eaf8-40f7-a095-1f0c9367c3fb",
   "metadata": {},
   "outputs": [
    {
     "name": "stdout",
     "output_type": "stream",
     "text": [
      "Shape of df_train: (770164, 494)\n"
     ]
    }
   ],
   "source": [
    "print(f\"Shape of df_train: {df_train.shape}\")  # Columns should not be >500 ideally\n"
   ]
  },
  {
   "cell_type": "code",
   "execution_count": 70,
   "id": "7736f230-091e-4313-acf8-f4b335f8b11c",
   "metadata": {},
   "outputs": [],
   "source": [
    "# from sklearn.preprocessing import MinMaxScaler\n",
    "\n",
    "# # Step 0: Add 'y' and id columns to exclusion list\n",
    "# excluded_ids = ['id1', 'id2', 'id3', 'id5', 'y']  # include 'y' here\n",
    "# datetime_cols = df_train.select_dtypes(include=['datetime64']).columns.tolist()\n",
    "# all_excluded_cols = list(set(final_cols_to_exclude + excluded_ids + datetime_cols))\n",
    "\n",
    "# # Step 1: Get numeric columns to scale (excluding the above)\n",
    "# cols_to_scale = [col for col in df_train.columns \n",
    "#                  if col not in all_excluded_cols \n",
    "#                  and pd.api.types.is_numeric_dtype(df_train[col])]\n",
    "\n",
    "# # Step 2: Fit scaler on df_train\n",
    "# scaler = MinMaxScaler()\n",
    "# scaler.fit(df_train[cols_to_scale])\n",
    "\n",
    "# # Step 3: Scale df_train and df_test (only common columns in test)\n",
    "# common_cols = [col for col in cols_to_scale if col in df_test.columns]\n",
    "\n",
    "# df_train[cols_to_scale] = scaler.transform(df_train[cols_to_scale])\n",
    "# df_test[common_cols] = scaler.transform(df_test[common_cols])\n"
   ]
  },
  {
   "cell_type": "code",
   "execution_count": 71,
   "id": "9083047a-8022-40e4-bc17-9173dd0577a6",
   "metadata": {},
   "outputs": [],
   "source": [
    "# df_train.to_csv(\"cleaned_df_train.csv\", index=False)\n",
    "# df_test.to_csv(\"cleaned_df_test.csv\", index=False)\n"
   ]
  },
  {
   "cell_type": "code",
   "execution_count": 72,
   "id": "1ad72374-0b32-460d-8bb2-0a137129da82",
   "metadata": {},
   "outputs": [
    {
     "name": "stdout",
     "output_type": "stream",
     "text": [
      "<class 'pandas.core.frame.DataFrame'>\n",
      "RangeIndex: 770164 entries, 0 to 770163\n",
      "Columns: 494 entries, id1 to clicks_short\n",
      "dtypes: datetime64[ns](2), float64(450), int64(39), object(3)\n",
      "memory usage: 2.8+ GB\n"
     ]
    }
   ],
   "source": [
    "df_train.info()"
   ]
  },
  {
   "cell_type": "code",
   "execution_count": 73,
   "id": "e37b7429-45d2-4596-836e-bf248d672183",
   "metadata": {},
   "outputs": [
    {
     "name": "stdout",
     "output_type": "stream",
     "text": [
      "<class 'pandas.core.frame.DataFrame'>\n",
      "RangeIndex: 369301 entries, 0 to 369300\n",
      "Columns: 493 entries, id1 to clicks_short\n",
      "dtypes: datetime64[ns](2), float64(458), int64(30), object(3)\n",
      "memory usage: 1.4+ GB\n"
     ]
    }
   ],
   "source": [
    "df_test.info()"
   ]
  },
  {
   "cell_type": "markdown",
   "id": "64d140cd-3225-40e5-903c-1bf56f9c4211",
   "metadata": {},
   "source": [
    "Training Starts from here\n"
   ]
  },
  {
   "cell_type": "code",
   "execution_count": 74,
   "id": "5d40ae35-7543-4d34-90b3-1a984621fe6a",
   "metadata": {},
   "outputs": [],
   "source": [
    "df_train=df_train.fillna(0)\n",
    "df_test=df_test.fillna(0)"
   ]
  },
  {
   "cell_type": "code",
   "execution_count": 75,
   "id": "ebd730e6-2bb3-43a2-8471-8eb830b0357c",
   "metadata": {},
   "outputs": [],
   "source": [
    "from sklearn.model_selection import train_test_split\n",
    "import lightgbm as lgb\n",
    "from lightgbm import early_stopping, log_evaluation\n",
    "from sklearn.feature_selection import SelectKBest\n",
    "from sklearn.feature_selection import f_classif\n"
   ]
  },
  {
   "cell_type": "code",
   "execution_count": 76,
   "id": "a2afde83-f5df-4176-a4b6-38b38f24e2b5",
   "metadata": {},
   "outputs": [],
   "source": [
    "def clean_column_names(df):\n",
    "    df.columns = df.columns.str.replace('[^A-Za-z0-9_]+', '_', regex=True)\n",
    "    return df\n",
    "\n",
    "df_train = clean_column_names(df_train)\n",
    "df_test = clean_column_names(df_test)"
   ]
  },
  {
   "cell_type": "code",
   "execution_count": 77,
   "id": "ea380e35-b7b2-4ff7-959b-e4bede8b6aaf",
   "metadata": {},
   "outputs": [],
   "source": [
    "# Step 1: Prepare data\n",
    "exclude_cols = ['y', 'id3', 'id4', 'id5', 'id1']  # keep id2 for grouping\n",
    "features = [col for col in df_train.columns if col not in exclude_cols]\n",
    "\n",
    "X = df_train[features]\n",
    "y = df_train['y']\n",
    "groups = df_train['id2']  # for ranking group"
   ]
  },
  {
   "cell_type": "code",
   "execution_count": 78,
   "id": "83f286d4-a589-4391-b864-0616dc51bdf5",
   "metadata": {},
   "outputs": [],
   "source": [
    "# Step 2: Split data\n",
    "X_train, X_val, y_train, y_val, groups_train, groups_val = train_test_split(\n",
    "    X, y, groups, test_size=0.2, random_state=42, stratify=y\n",
    ")\n"
   ]
  },
  {
   "cell_type": "code",
   "execution_count": 79,
   "id": "9f639ece-a625-4fdd-aeda-70e3215811f9",
   "metadata": {},
   "outputs": [],
   "source": [
    "X_train = X_train.copy()\n",
    "X_val = X_val.copy()\n",
    "X_train = X_train.drop(columns=['id2'], errors='ignore')\n",
    "X_val = X_val.drop(columns=['id2'], errors='ignore')"
   ]
  },
  {
   "cell_type": "code",
   "execution_count": 80,
   "id": "5e9a15d6-cf02-4229-b6a5-b21a1e2eed86",
   "metadata": {},
   "outputs": [],
   "source": [
    "# selector = SelectKBest(score_func=f_classif, k=250)\n",
    "# selector.fit(X_train, y_train)\n",
    "\n",
    "# mask = selector.get_support()\n",
    "# selected_features = X_train.columns[mask]\n",
    "\n",
    "# X_train_selected = selector.transform(X_train)\n",
    "# X_val_selected = selector.transform(X_val)\n",
    "\n",
    "# # Re-wrap as DataFrames\n",
    "# X_train = pd.DataFrame(X_train_selected, columns=selected_features, index=X_train.index)\n",
    "# X_val = pd.DataFrame(X_val_selected, columns=selected_features, index=X_val.index)"
   ]
  },
  {
   "cell_type": "code",
   "execution_count": 81,
   "id": "4f2676a2-4906-4b9b-98ce-746e254d838d",
   "metadata": {},
   "outputs": [],
   "source": [
    "group_train_sizes = groups_train.groupby(groups_train).size().tolist()\n",
    "group_val_sizes = groups_val.groupby(groups_val).size().tolist()\n",
    "\n",
    "lgb_train = lgb.Dataset(X_train, label=y_train, group=group_train_sizes)\n",
    "lgb_val = lgb.Dataset(X_val, label=y_val, group=group_val_sizes, reference=lgb_train)\n"
   ]
  },
  {
   "cell_type": "code",
   "execution_count": 82,
   "id": "6f5776fc-139f-4a51-aa15-bf40ceaafa92",
   "metadata": {},
   "outputs": [
    {
     "name": "stdout",
     "output_type": "stream",
     "text": [
      "\n",
      "📂 Fold 1\n"
     ]
    },
    {
     "name": "stderr",
     "output_type": "stream",
     "text": [
      "C:\\Users\\91637\\anaconda3\\envs\\prateek\\Lib\\site-packages\\sklearn\\feature_selection\\_univariate_selection.py:111: UserWarning: Features [ 13  14  15  44  48  67  81 100 101 114 115 262 263 322 328 334 335 338\n",
      " 339 343 344 345 352 364 369 373 375 390 403 405 412 414 416 421 422 424\n",
      " 426 427 428 429 430 433 434 437 438 439 441 444 445 447 449 450 456 457] are constant.\n",
      "  warnings.warn(\"Features %s are constant.\" % constant_features_idx, UserWarning)\n",
      "C:\\Users\\91637\\anaconda3\\envs\\prateek\\Lib\\site-packages\\sklearn\\feature_selection\\_univariate_selection.py:112: RuntimeWarning: invalid value encountered in divide\n",
      "  f = msb / msw\n"
     ]
    },
    {
     "name": "stdout",
     "output_type": "stream",
     "text": [
      "Training until validation scores don't improve for 50 rounds\n",
      "[50]\ttrain's auc: 0.932662\tvalid's auc: 0.886961\n",
      "[100]\ttrain's auc: 0.940655\tvalid's auc: 0.888396\n",
      "[150]\ttrain's auc: 0.945556\tvalid's auc: 0.889019\n",
      "Early stopping, best iteration is:\n",
      "[137]\ttrain's auc: 0.944402\tvalid's auc: 0.889431\n",
      "✅ Fold 1 AUC: 0.88943\n",
      "\n",
      "📂 Fold 2\n"
     ]
    },
    {
     "name": "stderr",
     "output_type": "stream",
     "text": [
      "C:\\Users\\91637\\anaconda3\\envs\\prateek\\Lib\\site-packages\\sklearn\\feature_selection\\_univariate_selection.py:111: UserWarning: Features [ 13  14  15  44  48  67  81 100 101 114 115 262 263 322 328 334 335 338\n",
      " 339 343 344 345 352 364 369 373 375 390 403 405 412 414 416 421 422 424\n",
      " 426 427 428 429 430 433 434 437 438 439 441 444 445 447 449 450 456 457] are constant.\n",
      "  warnings.warn(\"Features %s are constant.\" % constant_features_idx, UserWarning)\n",
      "C:\\Users\\91637\\anaconda3\\envs\\prateek\\Lib\\site-packages\\sklearn\\feature_selection\\_univariate_selection.py:112: RuntimeWarning: invalid value encountered in divide\n",
      "  f = msb / msw\n"
     ]
    },
    {
     "name": "stdout",
     "output_type": "stream",
     "text": [
      "Training until validation scores don't improve for 50 rounds\n",
      "[50]\ttrain's auc: 0.930714\tvalid's auc: 0.911349\n",
      "[100]\ttrain's auc: 0.93854\tvalid's auc: 0.912037\n",
      "[150]\ttrain's auc: 0.943756\tvalid's auc: 0.912352\n",
      "[200]\ttrain's auc: 0.947464\tvalid's auc: 0.913354\n",
      "[250]\ttrain's auc: 0.949931\tvalid's auc: 0.913712\n",
      "Early stopping, best iteration is:\n",
      "[245]\ttrain's auc: 0.949657\tvalid's auc: 0.913937\n",
      "✅ Fold 2 AUC: 0.91394\n",
      "\n",
      "📂 Fold 3\n"
     ]
    },
    {
     "name": "stderr",
     "output_type": "stream",
     "text": [
      "C:\\Users\\91637\\anaconda3\\envs\\prateek\\Lib\\site-packages\\sklearn\\feature_selection\\_univariate_selection.py:111: UserWarning: Features [ 13  14  15  44  48  67  81 100 101 114 115 262 263 322 328 334 335 338\n",
      " 339 343 344 345 352 364 369 373 375 390 403 405 412 414 416 421 422 424\n",
      " 426 427 428 429 430 433 434 437 438 439 441 444 445 447 449 450 456 457] are constant.\n",
      "  warnings.warn(\"Features %s are constant.\" % constant_features_idx, UserWarning)\n",
      "C:\\Users\\91637\\anaconda3\\envs\\prateek\\Lib\\site-packages\\sklearn\\feature_selection\\_univariate_selection.py:112: RuntimeWarning: invalid value encountered in divide\n",
      "  f = msb / msw\n"
     ]
    },
    {
     "name": "stdout",
     "output_type": "stream",
     "text": [
      "Training until validation scores don't improve for 50 rounds\n",
      "[50]\ttrain's auc: 0.930946\tvalid's auc: 0.923791\n",
      "[100]\ttrain's auc: 0.939589\tvalid's auc: 0.926453\n",
      "[150]\ttrain's auc: 0.944664\tvalid's auc: 0.927041\n",
      "Early stopping, best iteration is:\n",
      "[141]\ttrain's auc: 0.943825\tvalid's auc: 0.927201\n",
      "✅ Fold 3 AUC: 0.92720\n",
      "\n",
      "📂 Fold 4\n"
     ]
    },
    {
     "name": "stderr",
     "output_type": "stream",
     "text": [
      "C:\\Users\\91637\\anaconda3\\envs\\prateek\\Lib\\site-packages\\sklearn\\feature_selection\\_univariate_selection.py:111: UserWarning: Features [ 13  14  15  44  48  67  81 100 101 114 115 262 263 322 328 334 335 338\n",
      " 339 343 344 345 352 364 369 373 375 390 403 405 412 414 416 417 421 422\n",
      " 424 426 427 428 429 430 433 434 437 438 439 441 444 445 447 449 450 456\n",
      " 457] are constant.\n",
      "  warnings.warn(\"Features %s are constant.\" % constant_features_idx, UserWarning)\n",
      "C:\\Users\\91637\\anaconda3\\envs\\prateek\\Lib\\site-packages\\sklearn\\feature_selection\\_univariate_selection.py:112: RuntimeWarning: invalid value encountered in divide\n",
      "  f = msb / msw\n"
     ]
    },
    {
     "name": "stdout",
     "output_type": "stream",
     "text": [
      "Training until validation scores don't improve for 50 rounds\n",
      "[50]\ttrain's auc: 0.926478\tvalid's auc: 0.923291\n",
      "[100]\ttrain's auc: 0.936994\tvalid's auc: 0.928436\n",
      "[150]\ttrain's auc: 0.942292\tvalid's auc: 0.929808\n",
      "[200]\ttrain's auc: 0.946405\tvalid's auc: 0.930814\n",
      "[250]\ttrain's auc: 0.94914\tvalid's auc: 0.931191\n",
      "[300]\ttrain's auc: 0.951591\tvalid's auc: 0.931518\n",
      "[350]\ttrain's auc: 0.953508\tvalid's auc: 0.931815\n",
      "[400]\ttrain's auc: 0.955498\tvalid's auc: 0.931629\n",
      "Early stopping, best iteration is:\n",
      "[353]\ttrain's auc: 0.953625\tvalid's auc: 0.931832\n",
      "✅ Fold 4 AUC: 0.93183\n",
      "\n",
      "📂 Fold 5\n"
     ]
    },
    {
     "name": "stderr",
     "output_type": "stream",
     "text": [
      "C:\\Users\\91637\\anaconda3\\envs\\prateek\\Lib\\site-packages\\sklearn\\feature_selection\\_univariate_selection.py:111: UserWarning: Features [ 13  14  15  44  48  67  71  81 100 101 114 115 262 263 322 328 331 334\n",
      " 335 338 339 343 344 345 352 356 364 369 373 375 390 403 405 412 414 416\n",
      " 421 422 424 426 427 428 429 430 433 434 437 438 439 441 444 445 447 449\n",
      " 450 456 457] are constant.\n",
      "  warnings.warn(\"Features %s are constant.\" % constant_features_idx, UserWarning)\n",
      "C:\\Users\\91637\\anaconda3\\envs\\prateek\\Lib\\site-packages\\sklearn\\feature_selection\\_univariate_selection.py:112: RuntimeWarning: invalid value encountered in divide\n",
      "  f = msb / msw\n"
     ]
    },
    {
     "name": "stdout",
     "output_type": "stream",
     "text": [
      "Training until validation scores don't improve for 50 rounds\n",
      "[50]\ttrain's auc: 0.930712\tvalid's auc: 0.920169\n",
      "[100]\ttrain's auc: 0.939197\tvalid's auc: 0.923416\n",
      "[150]\ttrain's auc: 0.944586\tvalid's auc: 0.924159\n",
      "[200]\ttrain's auc: 0.948912\tvalid's auc: 0.924414\n",
      "[250]\ttrain's auc: 0.951443\tvalid's auc: 0.924563\n",
      "[300]\ttrain's auc: 0.953421\tvalid's auc: 0.924528\n",
      "Early stopping, best iteration is:\n",
      "[257]\ttrain's auc: 0.951713\tvalid's auc: 0.924606\n",
      "✅ Fold 5 AUC: 0.92461\n",
      "\n",
      "📊 Average AUC over folds: 0.91740\n"
     ]
    }
   ],
   "source": [
    "from sklearn.model_selection import GroupKFold\n",
    "from sklearn.feature_selection import SelectKBest, f_classif\n",
    "import lightgbm as lgb\n",
    "import numpy as np\n",
    "\n",
    "params = {\n",
    "    'learning_rate': 0.03,\n",
    "    'num_leaves': 32,          # was 16\n",
    "    'max_depth': 6,            # was 4\n",
    "    'min_child_samples': 100,  # was 300\n",
    "    'feature_fraction': 0.8,\n",
    "    'bagging_fraction': 0.8,\n",
    "    'bagging_freq': 5,\n",
    "    'lambda_l1': 1,\n",
    "    'lambda_l2': 1,\n",
    "    'n_estimators': 5000,\n",
    "    'objective': 'lambdarank',\n",
    "    'metric': 'auc',\n",
    "    'boosting_type': 'gbdt',\n",
    "    'verbosity': -1,\n",
    "    'n_jobs': -1\n",
    "}\n",
    "\n",
    "\n",
    "kf = GroupKFold(n_splits=5)\n",
    "fold = 1\n",
    "auc_scores = []\n",
    "\n",
    "for train_idx, val_idx in kf.split(X, y, groups):\n",
    "    print(f\"\\n📂 Fold {fold}\")\n",
    "    \n",
    "    X_train, X_val = X.iloc[train_idx].copy(), X.iloc[val_idx].copy()\n",
    "    y_train, y_val = y.iloc[train_idx], y.iloc[val_idx]\n",
    "\n",
    "    # Extract and drop group column\n",
    "    group_train = X_train.pop('id2')\n",
    "    group_val = X_val.pop('id2')\n",
    "\n",
    "    # Feature Selection\n",
    "    selector = SelectKBest(score_func=f_classif, k=250)\n",
    "    selector.fit(X_train, y_train)\n",
    "\n",
    "    X_train_selected = selector.transform(X_train)\n",
    "    X_val_selected = selector.transform(X_val)\n",
    "    selected_features = X_train.columns[selector.get_support()]\n",
    "\n",
    "    # Convert back to DataFrame\n",
    "    X_train = pd.DataFrame(X_train_selected, columns=selected_features, index=X_train.index)\n",
    "    X_val = pd.DataFrame(X_val_selected, columns=selected_features, index=X_val.index)\n",
    "\n",
    "    # Group sizes\n",
    "    group_train_sizes = group_train.groupby(group_train).size().tolist()\n",
    "    group_val_sizes = group_val.groupby(group_val).size().tolist()\n",
    "\n",
    "    lgb_train = lgb.Dataset(X_train, label=y_train, group=group_train_sizes)\n",
    "    lgb_val = lgb.Dataset(X_val, label=y_val, group=group_val_sizes, reference=lgb_train)\n",
    "\n",
    "    model = lgb.train(\n",
    "        params,\n",
    "        lgb_train,\n",
    "        valid_sets=[lgb_train, lgb_val],\n",
    "        valid_names=['train', 'valid'],\n",
    "        num_boost_round=500,\n",
    "        callbacks=[\n",
    "            early_stopping(stopping_rounds=50),\n",
    "            log_evaluation(period=50)\n",
    "        ]\n",
    "    )\n",
    "\n",
    "    auc = model.best_score['valid']['auc']\n",
    "    auc_scores.append(auc)\n",
    "    print(f\"✅ Fold {fold} AUC: {auc:.5f}\")\n",
    "    fold += 1\n",
    "\n",
    "print(f\"\\n📊 Average AUC over folds: {np.mean(auc_scores):.5f}\")\n"
   ]
  },
  {
   "cell_type": "code",
   "execution_count": 89,
   "id": "f63434d0-4f75-4bb7-8824-fc3d38293852",
   "metadata": {},
   "outputs": [],
   "source": [
    "# from sklearn.metrics import average_precision_score\n",
    "\n",
    "# map5_scores = []\n",
    "\n",
    "# def map_at_k(df, k=5):\n",
    "#     average_precisions = []\n",
    "#     for cid, group in df.groupby('customer_id'):\n",
    "#         y_true = group.sort_values('pred', ascending=False)['label'].values[:k]\n",
    "#         if y_true.sum() == 0:\n",
    "#             continue\n",
    "#         score = average_precision_score(y_true, np.arange(len(y_true), 0, -1))\n",
    "#         average_precisions.append(score)\n",
    "#     return np.mean(average_precisions)\n",
    "    \n",
    "# print(f\"📈 Average MAP@5 over folds: {np.mean(map5_scores):.5f}\")\n"
   ]
  },
  {
   "cell_type": "code",
   "execution_count": 90,
   "id": "121b4fd9-7b57-4b59-9ad7-4de53739b9e0",
   "metadata": {},
   "outputs": [],
   "source": [
    "# val_preds = model.predict(X_val)\n",
    "\n",
    "# val_df = X_val.copy()\n",
    "# val_df['customer_id'] = groups_val.values\n",
    "# val_df['label'] = y_val.values\n",
    "# val_df['pred'] = val_preds\n",
    "\n",
    "# def map_at_k(df, k=5):\n",
    "#     average_precisions = []\n",
    "#     for cid, group in df.groupby('customer_id'):\n",
    "#         y_true = group.sort_values('pred', ascending=False)['label'].values[:k]\n",
    "#         if y_true.sum() == 0:\n",
    "#             continue\n",
    "#         score = average_precision_score(y_true, np.arange(len(y_true), 0, -1))\n",
    "#         average_precisions.append(score)\n",
    "#     return np.mean(average_precisions)\n",
    "\n",
    "# map5 = map_at_k(val_df, k=5)\n",
    "# print(\"MAP@5:\", map5)\n"
   ]
  },
  {
   "cell_type": "code",
   "execution_count": 91,
   "id": "74021221-42e2-4e6c-9c5d-5f8431060d75",
   "metadata": {},
   "outputs": [
    {
     "name": "stdout",
     "output_type": "stream",
     "text": [
      "X_train shape: (616132, 250)\n",
      "y_train shape: (616132,)\n",
      "group size sum: 616132\n"
     ]
    }
   ],
   "source": [
    "print(\"X_train shape:\", X_train.shape)\n",
    "print(\"y_train shape:\", y_train.shape)\n",
    "print(\"group size sum:\", sum(group_train_sizes))\n",
    "\n"
   ]
  },
  {
   "cell_type": "code",
   "execution_count": 83,
   "id": "bbc171c0-e50e-4585-8ef2-bca6e44dc992",
   "metadata": {},
   "outputs": [],
   "source": [
    "id_cols = df_test[['id1', 'id2', 'id3', 'id5']].copy()\n",
    "\n",
    "# Drop excluded cols and select only the selected features\n",
    "df_test_filtered = df_test.drop(columns=[col for col in exclude_cols if col in df_test.columns])\n",
    "X_test = df_test_filtered[selected_features]"
   ]
  },
  {
   "cell_type": "code",
   "execution_count": 84,
   "id": "a5deb427-5d91-4160-a33a-24c2369e07cd",
   "metadata": {},
   "outputs": [],
   "source": [
    "test_preds = model.predict(X_test)"
   ]
  },
  {
   "cell_type": "code",
   "execution_count": 85,
   "id": "62648600-6ae1-421d-9d2c-a7ee23550cd3",
   "metadata": {},
   "outputs": [
    {
     "name": "stdout",
     "output_type": "stream",
     "text": [
      "✅ Scaled submission saved as 'submission.csv'\n"
     ]
    }
   ],
   "source": [
    "from sklearn.preprocessing import MinMaxScaler\n",
    "\n",
    "# Original predictions\n",
    "# test_preds = model.predict(X_test)\n",
    "\n",
    "# Scale to [0, 1]\n",
    "scaler = MinMaxScaler()\n",
    "test_preds_scaled = scaler.fit_transform(test_preds.reshape(-1, 1)).flatten()\n",
    "\n",
    "# Add to submission\n",
    "submission = id_cols.copy()  # id1, id2, id3, id5 already stored\n",
    "submission['pred'] = test_preds_scaled\n",
    "\n",
    "# Save CSV\n",
    "submission.to_csv('submission.csv', index=False)\n",
    "print(\"✅ Scaled submission saved as 'submission.csv'\")\n"
   ]
  },
  {
   "cell_type": "code",
   "execution_count": 106,
   "id": "2c1c2536-0df3-43ea-b8f7-3db0628400b9",
   "metadata": {},
   "outputs": [
    {
     "data": {
      "text/plain": [
       "(770164, 494)"
      ]
     },
     "execution_count": 106,
     "metadata": {},
     "output_type": "execute_result"
    }
   ],
   "source": [
    "df_train.shape"
   ]
  },
  {
   "cell_type": "markdown",
   "id": "3d5d49d1-3ed6-4fb9-9561-269f524e5d5f",
   "metadata": {},
   "source": [
    "XG BOOST"
   ]
  },
  {
   "cell_type": "code",
   "execution_count": 85,
   "id": "80e463ff-a3d8-4358-a6e5-bd04096e7440",
   "metadata": {},
   "outputs": [],
   "source": [
    "import xgboost as xgb"
   ]
  },
  {
   "cell_type": "code",
   "execution_count": 86,
   "id": "5cd80131-3d64-47e8-83a8-3239572c97f0",
   "metadata": {},
   "outputs": [],
   "source": [
    "dtrain = xgb.DMatrix(X_train, label=y_train)\n",
    "dval = xgb.DMatrix(X_val, label=y_val)"
   ]
  },
  {
   "cell_type": "code",
   "execution_count": 87,
   "id": "0821256f-ed5a-4e4a-91f8-063cbdde1f04",
   "metadata": {},
   "outputs": [],
   "source": [
    "params = {\n",
    "    'objective': 'binary:logistic',   # or 'rank:pairwise' for ranking tasks\n",
    "    'eval_metric': 'logloss',\n",
    "    'learning_rate': 0.05,\n",
    "    'max_depth': 6,\n",
    "    'verbosity': 1\n",
    "}"
   ]
  },
  {
   "cell_type": "code",
   "execution_count": 88,
   "id": "1b8c058d-b733-4c7d-8872-1c52b93f8120",
   "metadata": {},
   "outputs": [
    {
     "name": "stdout",
     "output_type": "stream",
     "text": [
      "[0]\ttrain-logloss:0.17381\tvalid-logloss:0.17397\n",
      "[10]\ttrain-logloss:0.12657\tvalid-logloss:0.12785\n",
      "[20]\ttrain-logloss:0.11038\tvalid-logloss:0.11209\n",
      "[30]\ttrain-logloss:0.10197\tvalid-logloss:0.10401\n",
      "[40]\ttrain-logloss:0.09679\tvalid-logloss:0.09917\n",
      "[50]\ttrain-logloss:0.09337\tvalid-logloss:0.09615\n",
      "[60]\ttrain-logloss:0.09061\tvalid-logloss:0.09382\n",
      "[70]\ttrain-logloss:0.08881\tvalid-logloss:0.09238\n",
      "[80]\ttrain-logloss:0.08728\tvalid-logloss:0.09118\n",
      "[90]\ttrain-logloss:0.08578\tvalid-logloss:0.09002\n",
      "[100]\ttrain-logloss:0.08450\tvalid-logloss:0.08900\n",
      "[110]\ttrain-logloss:0.08331\tvalid-logloss:0.08803\n",
      "[120]\ttrain-logloss:0.08243\tvalid-logloss:0.08738\n",
      "[130]\ttrain-logloss:0.08120\tvalid-logloss:0.08636\n",
      "[140]\ttrain-logloss:0.08038\tvalid-logloss:0.08577\n",
      "[150]\ttrain-logloss:0.07963\tvalid-logloss:0.08522\n",
      "[160]\ttrain-logloss:0.07885\tvalid-logloss:0.08460\n",
      "[170]\ttrain-logloss:0.07809\tvalid-logloss:0.08405\n",
      "[180]\ttrain-logloss:0.07732\tvalid-logloss:0.08349\n",
      "[190]\ttrain-logloss:0.07673\tvalid-logloss:0.08313\n",
      "[200]\ttrain-logloss:0.07606\tvalid-logloss:0.08265\n",
      "[210]\ttrain-logloss:0.07544\tvalid-logloss:0.08220\n",
      "[220]\ttrain-logloss:0.07487\tvalid-logloss:0.08182\n",
      "[230]\ttrain-logloss:0.07435\tvalid-logloss:0.08147\n",
      "[240]\ttrain-logloss:0.07384\tvalid-logloss:0.08119\n",
      "[250]\ttrain-logloss:0.07330\tvalid-logloss:0.08084\n",
      "[260]\ttrain-logloss:0.07286\tvalid-logloss:0.08060\n",
      "[270]\ttrain-logloss:0.07234\tvalid-logloss:0.08029\n",
      "[280]\ttrain-logloss:0.07180\tvalid-logloss:0.07998\n",
      "[290]\ttrain-logloss:0.07146\tvalid-logloss:0.07979\n",
      "[300]\ttrain-logloss:0.07112\tvalid-logloss:0.07964\n",
      "[310]\ttrain-logloss:0.07077\tvalid-logloss:0.07945\n",
      "[320]\ttrain-logloss:0.07041\tvalid-logloss:0.07927\n",
      "[330]\ttrain-logloss:0.07001\tvalid-logloss:0.07906\n",
      "[340]\ttrain-logloss:0.06955\tvalid-logloss:0.07880\n",
      "[350]\ttrain-logloss:0.06919\tvalid-logloss:0.07864\n",
      "[360]\ttrain-logloss:0.06876\tvalid-logloss:0.07844\n",
      "[370]\ttrain-logloss:0.06835\tvalid-logloss:0.07822\n",
      "[380]\ttrain-logloss:0.06795\tvalid-logloss:0.07802\n",
      "[390]\ttrain-logloss:0.06755\tvalid-logloss:0.07784\n",
      "[400]\ttrain-logloss:0.06719\tvalid-logloss:0.07767\n",
      "[410]\ttrain-logloss:0.06683\tvalid-logloss:0.07754\n",
      "[420]\ttrain-logloss:0.06645\tvalid-logloss:0.07738\n",
      "[430]\ttrain-logloss:0.06621\tvalid-logloss:0.07731\n",
      "[440]\ttrain-logloss:0.06588\tvalid-logloss:0.07719\n",
      "[450]\ttrain-logloss:0.06564\tvalid-logloss:0.07710\n",
      "[460]\ttrain-logloss:0.06530\tvalid-logloss:0.07695\n",
      "[470]\ttrain-logloss:0.06501\tvalid-logloss:0.07681\n",
      "[480]\ttrain-logloss:0.06468\tvalid-logloss:0.07668\n",
      "[490]\ttrain-logloss:0.06440\tvalid-logloss:0.07659\n",
      "[499]\ttrain-logloss:0.06407\tvalid-logloss:0.07644\n"
     ]
    }
   ],
   "source": [
    "evals = [(dtrain, 'train'), (dval, 'valid')]\n",
    "model = xgb.train(\n",
    "    params,\n",
    "    dtrain,\n",
    "    num_boost_round=500,\n",
    "    evals=evals,\n",
    "    early_stopping_rounds=50,\n",
    "    verbose_eval=10\n",
    ")"
   ]
  },
  {
   "cell_type": "code",
   "execution_count": 91,
   "id": "189f4298-a45d-42af-b090-37450c2c66d9",
   "metadata": {},
   "outputs": [],
   "source": [
    "val_preds = model.predict(dval)\n",
    "\n",
    "# Scale predictions between 0 and 1\n",
    "val_preds_scaled = MinMaxScaler().fit_transform(val_preds.reshape(-1, 1)).flatten()\n",
    "\n",
    "val_df = X_val.copy()\n",
    "val_df['customer_id'] = groups_val.values\n",
    "val_df['label'] = y_val.values\n",
    "val_df['pred'] = val_preds_scaled"
   ]
  },
  {
   "cell_type": "code",
   "execution_count": 92,
   "id": "2880a5aa-c6b1-4fe6-b28f-53619d04e291",
   "metadata": {},
   "outputs": [
    {
     "name": "stdout",
     "output_type": "stream",
     "text": [
      "MAP@5: 0.8001281841488027\n"
     ]
    }
   ],
   "source": [
    "def map_at_k(df, k=5):\n",
    "    average_precisions = []\n",
    "    for cid, group in df.groupby('customer_id'):\n",
    "        y_true = group.sort_values('pred', ascending=False)['label'].values[:k]\n",
    "        if y_true.sum() == 0:\n",
    "            continue\n",
    "        score = average_precision_score(y_true, np.arange(len(y_true), 0, -1))\n",
    "        average_precisions.append(score)\n",
    "    return np.mean(average_precisions)\n",
    "\n",
    "map5 = map_at_k(val_df, k=5)\n",
    "print(\"MAP@5:\", map5)"
   ]
  },
  {
   "cell_type": "markdown",
   "id": "5b468c5e-8d3b-407b-b4e7-c3d99a60a042",
   "metadata": {},
   "source": [
    "CatBoost"
   ]
  },
  {
   "cell_type": "code",
   "execution_count": 93,
   "id": "470ae0ea-385c-4ae3-8e26-59be29d15bfd",
   "metadata": {},
   "outputs": [],
   "source": [
    "from catboost import CatBoostClassifier, Pool"
   ]
  },
  {
   "cell_type": "code",
   "execution_count": 94,
   "id": "01b41ea3-967d-4137-ac36-63fdff6316a4",
   "metadata": {},
   "outputs": [],
   "source": [
    "train_pool = Pool(X_train, label=y_train)\n",
    "val_pool = Pool(X_val, label=y_val)\n",
    "\n",
    "model = CatBoostClassifier(\n",
    "    iterations=500,\n",
    "    learning_rate=0.05,\n",
    "    depth=6,\n",
    "    loss_function='Logloss',\n",
    "    eval_metric='Logloss',\n",
    "    verbose=100,\n",
    "    early_stopping_rounds=50,\n",
    "    random_seed=42\n",
    ")"
   ]
  },
  {
   "cell_type": "code",
   "execution_count": 95,
   "id": "46c77374-cd66-46af-a8df-195871849517",
   "metadata": {},
   "outputs": [
    {
     "name": "stdout",
     "output_type": "stream",
     "text": [
      "0:\tlearn: 0.6063444\ttest: 0.6064749\tbest: 0.6064749 (0)\ttotal: 254ms\tremaining: 2m 6s\n",
      "100:\tlearn: 0.1008242\ttest: 0.1025919\tbest: 0.1025919 (100)\ttotal: 11.8s\tremaining: 46.5s\n",
      "200:\tlearn: 0.0921085\ttest: 0.0943892\tbest: 0.0943892 (200)\ttotal: 23.8s\tremaining: 35.4s\n",
      "300:\tlearn: 0.0866354\ttest: 0.0894268\tbest: 0.0894268 (300)\ttotal: 35.1s\tremaining: 23.2s\n",
      "400:\tlearn: 0.0828766\ttest: 0.0861997\tbest: 0.0861997 (400)\ttotal: 46.5s\tremaining: 11.5s\n",
      "499:\tlearn: 0.0802713\ttest: 0.0840914\tbest: 0.0840914 (499)\ttotal: 57.7s\tremaining: 0us\n",
      "\n",
      "bestTest = 0.08409140778\n",
      "bestIteration = 499\n",
      "\n"
     ]
    },
    {
     "data": {
      "text/plain": [
       "<catboost.core.CatBoostClassifier at 0x206080f8320>"
      ]
     },
     "execution_count": 95,
     "metadata": {},
     "output_type": "execute_result"
    }
   ],
   "source": [
    "model.fit(train_pool, eval_set=val_pool, use_best_model=True)"
   ]
  },
  {
   "cell_type": "code",
   "execution_count": 96,
   "id": "1e11c238-41ce-4992-a2ad-76f63de33ee8",
   "metadata": {},
   "outputs": [
    {
     "name": "stdout",
     "output_type": "stream",
     "text": [
      "MAP@5: 0.8001281841488027\n"
     ]
    }
   ],
   "source": [
    "val_preds_scaled = MinMaxScaler().fit_transform(val_preds.reshape(-1, 1)).flatten()\n",
    "\n",
    "val_df = X_val.copy()\n",
    "val_df['customer_id'] = groups_val.values\n",
    "val_df['label'] = y_val.values\n",
    "val_df['pred'] = val_preds_scaled\n",
    "\n",
    "def map_at_k(df, k=5):\n",
    "    average_precisions = []\n",
    "    for cid, group in df.groupby('customer_id'):\n",
    "        y_true = group.sort_values('pred', ascending=False)['label'].values[:k]\n",
    "        if y_true.sum() == 0:\n",
    "            continue\n",
    "        score = average_precision_score(y_true, np.arange(len(y_true), 0, -1))\n",
    "        average_precisions.append(score)\n",
    "    return np.mean(average_precisions)\n",
    "\n",
    "map5 = map_at_k(val_df, k=5)\n",
    "print(\"MAP@5:\", map5)"
   ]
  },
  {
   "cell_type": "markdown",
   "id": "7f5c8dfd-4e32-4de1-8552-5379a1808838",
   "metadata": {},
   "source": [
    "Random Forest"
   ]
  },
  {
   "cell_type": "code",
   "execution_count": 97,
   "id": "c86f03b6-7237-4fe4-871a-20d3c7534c0d",
   "metadata": {},
   "outputs": [],
   "source": [
    "from sklearn.ensemble import RandomForestClassifier"
   ]
  },
  {
   "cell_type": "code",
   "execution_count": 98,
   "id": "eeaf2093-0ef8-4c88-8292-e71c1b3f6138",
   "metadata": {},
   "outputs": [
    {
     "name": "stderr",
     "output_type": "stream",
     "text": [
      "[Parallel(n_jobs=-1)]: Using backend ThreadingBackend with 16 concurrent workers.\n",
      "[Parallel(n_jobs=-1)]: Done  18 tasks      | elapsed:   22.9s\n",
      "[Parallel(n_jobs=-1)]: Done 168 tasks      | elapsed:  2.2min\n",
      "[Parallel(n_jobs=-1)]: Done 200 out of 200 | elapsed:  2.5min finished\n"
     ]
    },
    {
     "data": {
      "text/html": [
       "<style>#sk-container-id-1 {\n",
       "  /* Definition of color scheme common for light and dark mode */\n",
       "  --sklearn-color-text: #000;\n",
       "  --sklearn-color-text-muted: #666;\n",
       "  --sklearn-color-line: gray;\n",
       "  /* Definition of color scheme for unfitted estimators */\n",
       "  --sklearn-color-unfitted-level-0: #fff5e6;\n",
       "  --sklearn-color-unfitted-level-1: #f6e4d2;\n",
       "  --sklearn-color-unfitted-level-2: #ffe0b3;\n",
       "  --sklearn-color-unfitted-level-3: chocolate;\n",
       "  /* Definition of color scheme for fitted estimators */\n",
       "  --sklearn-color-fitted-level-0: #f0f8ff;\n",
       "  --sklearn-color-fitted-level-1: #d4ebff;\n",
       "  --sklearn-color-fitted-level-2: #b3dbfd;\n",
       "  --sklearn-color-fitted-level-3: cornflowerblue;\n",
       "\n",
       "  /* Specific color for light theme */\n",
       "  --sklearn-color-text-on-default-background: var(--sg-text-color, var(--theme-code-foreground, var(--jp-content-font-color1, black)));\n",
       "  --sklearn-color-background: var(--sg-background-color, var(--theme-background, var(--jp-layout-color0, white)));\n",
       "  --sklearn-color-border-box: var(--sg-text-color, var(--theme-code-foreground, var(--jp-content-font-color1, black)));\n",
       "  --sklearn-color-icon: #696969;\n",
       "\n",
       "  @media (prefers-color-scheme: dark) {\n",
       "    /* Redefinition of color scheme for dark theme */\n",
       "    --sklearn-color-text-on-default-background: var(--sg-text-color, var(--theme-code-foreground, var(--jp-content-font-color1, white)));\n",
       "    --sklearn-color-background: var(--sg-background-color, var(--theme-background, var(--jp-layout-color0, #111)));\n",
       "    --sklearn-color-border-box: var(--sg-text-color, var(--theme-code-foreground, var(--jp-content-font-color1, white)));\n",
       "    --sklearn-color-icon: #878787;\n",
       "  }\n",
       "}\n",
       "\n",
       "#sk-container-id-1 {\n",
       "  color: var(--sklearn-color-text);\n",
       "}\n",
       "\n",
       "#sk-container-id-1 pre {\n",
       "  padding: 0;\n",
       "}\n",
       "\n",
       "#sk-container-id-1 input.sk-hidden--visually {\n",
       "  border: 0;\n",
       "  clip: rect(1px 1px 1px 1px);\n",
       "  clip: rect(1px, 1px, 1px, 1px);\n",
       "  height: 1px;\n",
       "  margin: -1px;\n",
       "  overflow: hidden;\n",
       "  padding: 0;\n",
       "  position: absolute;\n",
       "  width: 1px;\n",
       "}\n",
       "\n",
       "#sk-container-id-1 div.sk-dashed-wrapped {\n",
       "  border: 1px dashed var(--sklearn-color-line);\n",
       "  margin: 0 0.4em 0.5em 0.4em;\n",
       "  box-sizing: border-box;\n",
       "  padding-bottom: 0.4em;\n",
       "  background-color: var(--sklearn-color-background);\n",
       "}\n",
       "\n",
       "#sk-container-id-1 div.sk-container {\n",
       "  /* jupyter's `normalize.less` sets `[hidden] { display: none; }`\n",
       "     but bootstrap.min.css set `[hidden] { display: none !important; }`\n",
       "     so we also need the `!important` here to be able to override the\n",
       "     default hidden behavior on the sphinx rendered scikit-learn.org.\n",
       "     See: https://github.com/scikit-learn/scikit-learn/issues/21755 */\n",
       "  display: inline-block !important;\n",
       "  position: relative;\n",
       "}\n",
       "\n",
       "#sk-container-id-1 div.sk-text-repr-fallback {\n",
       "  display: none;\n",
       "}\n",
       "\n",
       "div.sk-parallel-item,\n",
       "div.sk-serial,\n",
       "div.sk-item {\n",
       "  /* draw centered vertical line to link estimators */\n",
       "  background-image: linear-gradient(var(--sklearn-color-text-on-default-background), var(--sklearn-color-text-on-default-background));\n",
       "  background-size: 2px 100%;\n",
       "  background-repeat: no-repeat;\n",
       "  background-position: center center;\n",
       "}\n",
       "\n",
       "/* Parallel-specific style estimator block */\n",
       "\n",
       "#sk-container-id-1 div.sk-parallel-item::after {\n",
       "  content: \"\";\n",
       "  width: 100%;\n",
       "  border-bottom: 2px solid var(--sklearn-color-text-on-default-background);\n",
       "  flex-grow: 1;\n",
       "}\n",
       "\n",
       "#sk-container-id-1 div.sk-parallel {\n",
       "  display: flex;\n",
       "  align-items: stretch;\n",
       "  justify-content: center;\n",
       "  background-color: var(--sklearn-color-background);\n",
       "  position: relative;\n",
       "}\n",
       "\n",
       "#sk-container-id-1 div.sk-parallel-item {\n",
       "  display: flex;\n",
       "  flex-direction: column;\n",
       "}\n",
       "\n",
       "#sk-container-id-1 div.sk-parallel-item:first-child::after {\n",
       "  align-self: flex-end;\n",
       "  width: 50%;\n",
       "}\n",
       "\n",
       "#sk-container-id-1 div.sk-parallel-item:last-child::after {\n",
       "  align-self: flex-start;\n",
       "  width: 50%;\n",
       "}\n",
       "\n",
       "#sk-container-id-1 div.sk-parallel-item:only-child::after {\n",
       "  width: 0;\n",
       "}\n",
       "\n",
       "/* Serial-specific style estimator block */\n",
       "\n",
       "#sk-container-id-1 div.sk-serial {\n",
       "  display: flex;\n",
       "  flex-direction: column;\n",
       "  align-items: center;\n",
       "  background-color: var(--sklearn-color-background);\n",
       "  padding-right: 1em;\n",
       "  padding-left: 1em;\n",
       "}\n",
       "\n",
       "\n",
       "/* Toggleable style: style used for estimator/Pipeline/ColumnTransformer box that is\n",
       "clickable and can be expanded/collapsed.\n",
       "- Pipeline and ColumnTransformer use this feature and define the default style\n",
       "- Estimators will overwrite some part of the style using the `sk-estimator` class\n",
       "*/\n",
       "\n",
       "/* Pipeline and ColumnTransformer style (default) */\n",
       "\n",
       "#sk-container-id-1 div.sk-toggleable {\n",
       "  /* Default theme specific background. It is overwritten whether we have a\n",
       "  specific estimator or a Pipeline/ColumnTransformer */\n",
       "  background-color: var(--sklearn-color-background);\n",
       "}\n",
       "\n",
       "/* Toggleable label */\n",
       "#sk-container-id-1 label.sk-toggleable__label {\n",
       "  cursor: pointer;\n",
       "  display: flex;\n",
       "  width: 100%;\n",
       "  margin-bottom: 0;\n",
       "  padding: 0.5em;\n",
       "  box-sizing: border-box;\n",
       "  text-align: center;\n",
       "  align-items: start;\n",
       "  justify-content: space-between;\n",
       "  gap: 0.5em;\n",
       "}\n",
       "\n",
       "#sk-container-id-1 label.sk-toggleable__label .caption {\n",
       "  font-size: 0.6rem;\n",
       "  font-weight: lighter;\n",
       "  color: var(--sklearn-color-text-muted);\n",
       "}\n",
       "\n",
       "#sk-container-id-1 label.sk-toggleable__label-arrow:before {\n",
       "  /* Arrow on the left of the label */\n",
       "  content: \"▸\";\n",
       "  float: left;\n",
       "  margin-right: 0.25em;\n",
       "  color: var(--sklearn-color-icon);\n",
       "}\n",
       "\n",
       "#sk-container-id-1 label.sk-toggleable__label-arrow:hover:before {\n",
       "  color: var(--sklearn-color-text);\n",
       "}\n",
       "\n",
       "/* Toggleable content - dropdown */\n",
       "\n",
       "#sk-container-id-1 div.sk-toggleable__content {\n",
       "  max-height: 0;\n",
       "  max-width: 0;\n",
       "  overflow: hidden;\n",
       "  text-align: left;\n",
       "  /* unfitted */\n",
       "  background-color: var(--sklearn-color-unfitted-level-0);\n",
       "}\n",
       "\n",
       "#sk-container-id-1 div.sk-toggleable__content.fitted {\n",
       "  /* fitted */\n",
       "  background-color: var(--sklearn-color-fitted-level-0);\n",
       "}\n",
       "\n",
       "#sk-container-id-1 div.sk-toggleable__content pre {\n",
       "  margin: 0.2em;\n",
       "  border-radius: 0.25em;\n",
       "  color: var(--sklearn-color-text);\n",
       "  /* unfitted */\n",
       "  background-color: var(--sklearn-color-unfitted-level-0);\n",
       "}\n",
       "\n",
       "#sk-container-id-1 div.sk-toggleable__content.fitted pre {\n",
       "  /* unfitted */\n",
       "  background-color: var(--sklearn-color-fitted-level-0);\n",
       "}\n",
       "\n",
       "#sk-container-id-1 input.sk-toggleable__control:checked~div.sk-toggleable__content {\n",
       "  /* Expand drop-down */\n",
       "  max-height: 200px;\n",
       "  max-width: 100%;\n",
       "  overflow: auto;\n",
       "}\n",
       "\n",
       "#sk-container-id-1 input.sk-toggleable__control:checked~label.sk-toggleable__label-arrow:before {\n",
       "  content: \"▾\";\n",
       "}\n",
       "\n",
       "/* Pipeline/ColumnTransformer-specific style */\n",
       "\n",
       "#sk-container-id-1 div.sk-label input.sk-toggleable__control:checked~label.sk-toggleable__label {\n",
       "  color: var(--sklearn-color-text);\n",
       "  background-color: var(--sklearn-color-unfitted-level-2);\n",
       "}\n",
       "\n",
       "#sk-container-id-1 div.sk-label.fitted input.sk-toggleable__control:checked~label.sk-toggleable__label {\n",
       "  background-color: var(--sklearn-color-fitted-level-2);\n",
       "}\n",
       "\n",
       "/* Estimator-specific style */\n",
       "\n",
       "/* Colorize estimator box */\n",
       "#sk-container-id-1 div.sk-estimator input.sk-toggleable__control:checked~label.sk-toggleable__label {\n",
       "  /* unfitted */\n",
       "  background-color: var(--sklearn-color-unfitted-level-2);\n",
       "}\n",
       "\n",
       "#sk-container-id-1 div.sk-estimator.fitted input.sk-toggleable__control:checked~label.sk-toggleable__label {\n",
       "  /* fitted */\n",
       "  background-color: var(--sklearn-color-fitted-level-2);\n",
       "}\n",
       "\n",
       "#sk-container-id-1 div.sk-label label.sk-toggleable__label,\n",
       "#sk-container-id-1 div.sk-label label {\n",
       "  /* The background is the default theme color */\n",
       "  color: var(--sklearn-color-text-on-default-background);\n",
       "}\n",
       "\n",
       "/* On hover, darken the color of the background */\n",
       "#sk-container-id-1 div.sk-label:hover label.sk-toggleable__label {\n",
       "  color: var(--sklearn-color-text);\n",
       "  background-color: var(--sklearn-color-unfitted-level-2);\n",
       "}\n",
       "\n",
       "/* Label box, darken color on hover, fitted */\n",
       "#sk-container-id-1 div.sk-label.fitted:hover label.sk-toggleable__label.fitted {\n",
       "  color: var(--sklearn-color-text);\n",
       "  background-color: var(--sklearn-color-fitted-level-2);\n",
       "}\n",
       "\n",
       "/* Estimator label */\n",
       "\n",
       "#sk-container-id-1 div.sk-label label {\n",
       "  font-family: monospace;\n",
       "  font-weight: bold;\n",
       "  display: inline-block;\n",
       "  line-height: 1.2em;\n",
       "}\n",
       "\n",
       "#sk-container-id-1 div.sk-label-container {\n",
       "  text-align: center;\n",
       "}\n",
       "\n",
       "/* Estimator-specific */\n",
       "#sk-container-id-1 div.sk-estimator {\n",
       "  font-family: monospace;\n",
       "  border: 1px dotted var(--sklearn-color-border-box);\n",
       "  border-radius: 0.25em;\n",
       "  box-sizing: border-box;\n",
       "  margin-bottom: 0.5em;\n",
       "  /* unfitted */\n",
       "  background-color: var(--sklearn-color-unfitted-level-0);\n",
       "}\n",
       "\n",
       "#sk-container-id-1 div.sk-estimator.fitted {\n",
       "  /* fitted */\n",
       "  background-color: var(--sklearn-color-fitted-level-0);\n",
       "}\n",
       "\n",
       "/* on hover */\n",
       "#sk-container-id-1 div.sk-estimator:hover {\n",
       "  /* unfitted */\n",
       "  background-color: var(--sklearn-color-unfitted-level-2);\n",
       "}\n",
       "\n",
       "#sk-container-id-1 div.sk-estimator.fitted:hover {\n",
       "  /* fitted */\n",
       "  background-color: var(--sklearn-color-fitted-level-2);\n",
       "}\n",
       "\n",
       "/* Specification for estimator info (e.g. \"i\" and \"?\") */\n",
       "\n",
       "/* Common style for \"i\" and \"?\" */\n",
       "\n",
       ".sk-estimator-doc-link,\n",
       "a:link.sk-estimator-doc-link,\n",
       "a:visited.sk-estimator-doc-link {\n",
       "  float: right;\n",
       "  font-size: smaller;\n",
       "  line-height: 1em;\n",
       "  font-family: monospace;\n",
       "  background-color: var(--sklearn-color-background);\n",
       "  border-radius: 1em;\n",
       "  height: 1em;\n",
       "  width: 1em;\n",
       "  text-decoration: none !important;\n",
       "  margin-left: 0.5em;\n",
       "  text-align: center;\n",
       "  /* unfitted */\n",
       "  border: var(--sklearn-color-unfitted-level-1) 1pt solid;\n",
       "  color: var(--sklearn-color-unfitted-level-1);\n",
       "}\n",
       "\n",
       ".sk-estimator-doc-link.fitted,\n",
       "a:link.sk-estimator-doc-link.fitted,\n",
       "a:visited.sk-estimator-doc-link.fitted {\n",
       "  /* fitted */\n",
       "  border: var(--sklearn-color-fitted-level-1) 1pt solid;\n",
       "  color: var(--sklearn-color-fitted-level-1);\n",
       "}\n",
       "\n",
       "/* On hover */\n",
       "div.sk-estimator:hover .sk-estimator-doc-link:hover,\n",
       ".sk-estimator-doc-link:hover,\n",
       "div.sk-label-container:hover .sk-estimator-doc-link:hover,\n",
       ".sk-estimator-doc-link:hover {\n",
       "  /* unfitted */\n",
       "  background-color: var(--sklearn-color-unfitted-level-3);\n",
       "  color: var(--sklearn-color-background);\n",
       "  text-decoration: none;\n",
       "}\n",
       "\n",
       "div.sk-estimator.fitted:hover .sk-estimator-doc-link.fitted:hover,\n",
       ".sk-estimator-doc-link.fitted:hover,\n",
       "div.sk-label-container:hover .sk-estimator-doc-link.fitted:hover,\n",
       ".sk-estimator-doc-link.fitted:hover {\n",
       "  /* fitted */\n",
       "  background-color: var(--sklearn-color-fitted-level-3);\n",
       "  color: var(--sklearn-color-background);\n",
       "  text-decoration: none;\n",
       "}\n",
       "\n",
       "/* Span, style for the box shown on hovering the info icon */\n",
       ".sk-estimator-doc-link span {\n",
       "  display: none;\n",
       "  z-index: 9999;\n",
       "  position: relative;\n",
       "  font-weight: normal;\n",
       "  right: .2ex;\n",
       "  padding: .5ex;\n",
       "  margin: .5ex;\n",
       "  width: min-content;\n",
       "  min-width: 20ex;\n",
       "  max-width: 50ex;\n",
       "  color: var(--sklearn-color-text);\n",
       "  box-shadow: 2pt 2pt 4pt #999;\n",
       "  /* unfitted */\n",
       "  background: var(--sklearn-color-unfitted-level-0);\n",
       "  border: .5pt solid var(--sklearn-color-unfitted-level-3);\n",
       "}\n",
       "\n",
       ".sk-estimator-doc-link.fitted span {\n",
       "  /* fitted */\n",
       "  background: var(--sklearn-color-fitted-level-0);\n",
       "  border: var(--sklearn-color-fitted-level-3);\n",
       "}\n",
       "\n",
       ".sk-estimator-doc-link:hover span {\n",
       "  display: block;\n",
       "}\n",
       "\n",
       "/* \"?\"-specific style due to the `<a>` HTML tag */\n",
       "\n",
       "#sk-container-id-1 a.estimator_doc_link {\n",
       "  float: right;\n",
       "  font-size: 1rem;\n",
       "  line-height: 1em;\n",
       "  font-family: monospace;\n",
       "  background-color: var(--sklearn-color-background);\n",
       "  border-radius: 1rem;\n",
       "  height: 1rem;\n",
       "  width: 1rem;\n",
       "  text-decoration: none;\n",
       "  /* unfitted */\n",
       "  color: var(--sklearn-color-unfitted-level-1);\n",
       "  border: var(--sklearn-color-unfitted-level-1) 1pt solid;\n",
       "}\n",
       "\n",
       "#sk-container-id-1 a.estimator_doc_link.fitted {\n",
       "  /* fitted */\n",
       "  border: var(--sklearn-color-fitted-level-1) 1pt solid;\n",
       "  color: var(--sklearn-color-fitted-level-1);\n",
       "}\n",
       "\n",
       "/* On hover */\n",
       "#sk-container-id-1 a.estimator_doc_link:hover {\n",
       "  /* unfitted */\n",
       "  background-color: var(--sklearn-color-unfitted-level-3);\n",
       "  color: var(--sklearn-color-background);\n",
       "  text-decoration: none;\n",
       "}\n",
       "\n",
       "#sk-container-id-1 a.estimator_doc_link.fitted:hover {\n",
       "  /* fitted */\n",
       "  background-color: var(--sklearn-color-fitted-level-3);\n",
       "}\n",
       "</style><div id=\"sk-container-id-1\" class=\"sk-top-container\"><div class=\"sk-text-repr-fallback\"><pre>RandomForestClassifier(max_depth=12, n_estimators=200, n_jobs=-1,\n",
       "                       random_state=42, verbose=1)</pre><b>In a Jupyter environment, please rerun this cell to show the HTML representation or trust the notebook. <br />On GitHub, the HTML representation is unable to render, please try loading this page with nbviewer.org.</b></div><div class=\"sk-container\" hidden><div class=\"sk-item\"><div class=\"sk-estimator fitted sk-toggleable\"><input class=\"sk-toggleable__control sk-hidden--visually\" id=\"sk-estimator-id-1\" type=\"checkbox\" checked><label for=\"sk-estimator-id-1\" class=\"sk-toggleable__label fitted sk-toggleable__label-arrow\"><div><div>RandomForestClassifier</div></div><div><a class=\"sk-estimator-doc-link fitted\" rel=\"noreferrer\" target=\"_blank\" href=\"https://scikit-learn.org/1.6/modules/generated/sklearn.ensemble.RandomForestClassifier.html\">?<span>Documentation for RandomForestClassifier</span></a><span class=\"sk-estimator-doc-link fitted\">i<span>Fitted</span></span></div></label><div class=\"sk-toggleable__content fitted\"><pre>RandomForestClassifier(max_depth=12, n_estimators=200, n_jobs=-1,\n",
       "                       random_state=42, verbose=1)</pre></div> </div></div></div></div>"
      ],
      "text/plain": [
       "RandomForestClassifier(max_depth=12, n_estimators=200, n_jobs=-1,\n",
       "                       random_state=42, verbose=1)"
      ]
     },
     "execution_count": 98,
     "metadata": {},
     "output_type": "execute_result"
    }
   ],
   "source": [
    "rf_model = RandomForestClassifier(\n",
    "    n_estimators=200,\n",
    "    max_depth=12,\n",
    "    random_state=42,\n",
    "    n_jobs=-1,\n",
    "    verbose=1\n",
    ")\n",
    "rf_model.fit(X_train, y_train)"
   ]
  },
  {
   "cell_type": "code",
   "execution_count": 99,
   "id": "06e2e9c2-4040-4b23-8793-9f58111ac604",
   "metadata": {},
   "outputs": [
    {
     "name": "stderr",
     "output_type": "stream",
     "text": [
      "[Parallel(n_jobs=16)]: Using backend ThreadingBackend with 16 concurrent workers.\n",
      "[Parallel(n_jobs=16)]: Done  18 tasks      | elapsed:    0.0s\n",
      "[Parallel(n_jobs=16)]: Done 168 tasks      | elapsed:    0.5s\n",
      "[Parallel(n_jobs=16)]: Done 200 out of 200 | elapsed:    0.6s finished\n"
     ]
    },
    {
     "name": "stdout",
     "output_type": "stream",
     "text": [
      "MAP@5: 0.7969297158903205\n"
     ]
    }
   ],
   "source": [
    "val_preds = rf_model.predict_proba(X_val)[:, 1]\n",
    "\n",
    "# Scale to [0, 1]\n",
    "val_preds_scaled = MinMaxScaler().fit_transform(val_preds.reshape(-1, 1)).flatten()\n",
    "\n",
    "val_df = X_val.copy()\n",
    "val_df['customer_id'] = groups_val.values\n",
    "val_df['label'] = y_val.values\n",
    "val_df['pred'] = val_preds_scaled\n",
    "\n",
    "def map_at_k(df, k=5):\n",
    "    average_precisions = []\n",
    "    for cid, group in df.groupby('customer_id'):\n",
    "        y_true = group.sort_values('pred', ascending=False)['label'].values[:k]\n",
    "        if y_true.sum() == 0:\n",
    "            continue\n",
    "        score = average_precision_score(y_true, np.arange(len(y_true), 0, -1))\n",
    "        average_precisions.append(score)\n",
    "    return np.mean(average_precisions)\n",
    "\n",
    "map5 = map_at_k(val_df, k=5)\n",
    "print(\"MAP@5:\", map5)"
   ]
  },
  {
   "cell_type": "markdown",
   "id": "f3103d9b-6791-4577-b90a-99350d9519a1",
   "metadata": {},
   "source": [
    "Nueral Network"
   ]
  },
  {
   "cell_type": "code",
   "execution_count": 100,
   "id": "1ec738fc-66a6-4d3b-97cf-21f8f24fca79",
   "metadata": {},
   "outputs": [],
   "source": [
    "from tensorflow.keras.models import Sequential\n",
    "from tensorflow.keras.layers import Dense, Dropout, BatchNormalization\n",
    "from tensorflow.keras.callbacks import EarlyStopping\n",
    "from tensorflow.keras.optimizers import Adam\n",
    "from sklearn.preprocessing import MinMaxScaler, StandardScaler"
   ]
  },
  {
   "cell_type": "code",
   "execution_count": 101,
   "id": "00db57b4-180a-465b-9f36-795aab33d932",
   "metadata": {},
   "outputs": [],
   "source": [
    "scaler = StandardScaler()\n",
    "X_train = scaler.fit_transform(X_train)\n",
    "X_val = scaler.transform(X_val)"
   ]
  },
  {
   "cell_type": "code",
   "execution_count": 102,
   "id": "6bc862f8-ab6c-494e-b618-3b77566fb6cb",
   "metadata": {},
   "outputs": [
    {
     "name": "stderr",
     "output_type": "stream",
     "text": [
      "C:\\Users\\91637\\anaconda3\\envs\\prateek\\Lib\\site-packages\\keras\\src\\layers\\core\\dense.py:93: UserWarning: Do not pass an `input_shape`/`input_dim` argument to a layer. When using Sequential models, prefer using an `Input(shape)` object as the first layer in the model instead.\n",
      "  super().__init__(activity_regularizer=activity_regularizer, **kwargs)\n"
     ]
    }
   ],
   "source": [
    "model = Sequential([\n",
    "    Dense(512, activation='relu', input_shape=(X_train.shape[1],)),\n",
    "    BatchNormalization(),\n",
    "    Dropout(0.3),\n",
    "    Dense(256, activation='relu'),\n",
    "    BatchNormalization(),\n",
    "    Dropout(0.3),\n",
    "    Dense(128, activation='relu'),\n",
    "    Dropout(0.2),\n",
    "    Dense(1, activation='sigmoid')  # output probability\n",
    "])"
   ]
  },
  {
   "cell_type": "code",
   "execution_count": 103,
   "id": "c21cb1e5-5cb1-4d60-b8d4-e84df07fc7e0",
   "metadata": {},
   "outputs": [],
   "source": [
    "model.compile(optimizer=Adam(learning_rate=0.001), loss='binary_crossentropy', metrics=['AUC'])"
   ]
  },
  {
   "cell_type": "code",
   "execution_count": 104,
   "id": "f9441362-fc84-47fa-ab20-a01a27c9da93",
   "metadata": {},
   "outputs": [
    {
     "name": "stdout",
     "output_type": "stream",
     "text": [
      "Epoch 1/100\n",
      "1204/1204 - 17s - 14ms/step - AUC: 0.8923 - loss: 0.1186 - val_AUC: 0.9200 - val_loss: 0.1034\n",
      "Epoch 2/100\n",
      "1204/1204 - 15s - 12ms/step - AUC: 0.9189 - loss: 0.1026 - val_AUC: 0.9249 - val_loss: 0.0965\n",
      "Epoch 3/100\n",
      "1204/1204 - 15s - 12ms/step - AUC: 0.9277 - loss: 0.0958 - val_AUC: 0.9284 - val_loss: 0.0921\n",
      "Epoch 4/100\n",
      "1204/1204 - 15s - 12ms/step - AUC: 0.9330 - loss: 0.0908 - val_AUC: 0.9290 - val_loss: 0.0898\n",
      "Epoch 5/100\n",
      "1204/1204 - 15s - 12ms/step - AUC: 0.9371 - loss: 0.0874 - val_AUC: 0.9335 - val_loss: 0.0868\n",
      "Epoch 6/100\n",
      "1204/1204 - 15s - 12ms/step - AUC: 0.9407 - loss: 0.0846 - val_AUC: 0.9346 - val_loss: 0.0857\n",
      "Epoch 7/100\n",
      "1204/1204 - 15s - 12ms/step - AUC: 0.9444 - loss: 0.0823 - val_AUC: 0.9357 - val_loss: 0.0853\n",
      "Epoch 8/100\n",
      "1204/1204 - 15s - 12ms/step - AUC: 0.9464 - loss: 0.0807 - val_AUC: 0.9370 - val_loss: 0.0842\n",
      "Epoch 9/100\n",
      "1204/1204 - 15s - 12ms/step - AUC: 0.9486 - loss: 0.0790 - val_AUC: 0.9369 - val_loss: 0.0833\n",
      "Epoch 10/100\n",
      "1204/1204 - 15s - 12ms/step - AUC: 0.9505 - loss: 0.0775 - val_AUC: 0.9364 - val_loss: 0.0844\n",
      "Epoch 11/100\n",
      "1204/1204 - 15s - 12ms/step - AUC: 0.9522 - loss: 0.0765 - val_AUC: 0.9374 - val_loss: 0.0826\n",
      "Epoch 12/100\n",
      "1204/1204 - 15s - 12ms/step - AUC: 0.9544 - loss: 0.0749 - val_AUC: 0.9362 - val_loss: 0.0837\n",
      "Epoch 13/100\n",
      "1204/1204 - 15s - 12ms/step - AUC: 0.9550 - loss: 0.0738 - val_AUC: 0.9370 - val_loss: 0.0826\n",
      "Epoch 14/100\n",
      "1204/1204 - 15s - 12ms/step - AUC: 0.9569 - loss: 0.0728 - val_AUC: 0.9383 - val_loss: 0.0819\n",
      "Epoch 15/100\n",
      "1204/1204 - 15s - 12ms/step - AUC: 0.9583 - loss: 0.0719 - val_AUC: 0.9364 - val_loss: 0.0829\n",
      "Epoch 16/100\n",
      "1204/1204 - 15s - 12ms/step - AUC: 0.9598 - loss: 0.0710 - val_AUC: 0.9374 - val_loss: 0.0817\n",
      "Epoch 17/100\n",
      "1204/1204 - 15s - 12ms/step - AUC: 0.9610 - loss: 0.0701 - val_AUC: 0.9315 - val_loss: 0.0851\n",
      "Epoch 18/100\n",
      "1204/1204 - 15s - 13ms/step - AUC: 0.9623 - loss: 0.0694 - val_AUC: 0.9379 - val_loss: 0.0820\n",
      "Epoch 19/100\n",
      "1204/1204 - 15s - 12ms/step - AUC: 0.9628 - loss: 0.0686 - val_AUC: 0.9359 - val_loss: 0.0823\n",
      "Epoch 20/100\n",
      "1204/1204 - 15s - 12ms/step - AUC: 0.9641 - loss: 0.0679 - val_AUC: 0.9331 - val_loss: 0.0841\n",
      "Epoch 21/100\n",
      "1204/1204 - 15s - 12ms/step - AUC: 0.9649 - loss: 0.0670 - val_AUC: 0.9352 - val_loss: 0.0834\n",
      "Epoch 22/100\n",
      "1204/1204 - 15s - 12ms/step - AUC: 0.9661 - loss: 0.0664 - val_AUC: 0.9337 - val_loss: 0.0838\n",
      "Epoch 23/100\n",
      "1204/1204 - 15s - 12ms/step - AUC: 0.9668 - loss: 0.0656 - val_AUC: 0.9333 - val_loss: 0.0846\n",
      "Epoch 24/100\n",
      "1204/1204 - 15s - 12ms/step - AUC: 0.9674 - loss: 0.0653 - val_AUC: 0.9338 - val_loss: 0.0835\n",
      "Epoch 25/100\n",
      "1204/1204 - 15s - 12ms/step - AUC: 0.9681 - loss: 0.0646 - val_AUC: 0.9343 - val_loss: 0.0836\n",
      "Epoch 26/100\n",
      "1204/1204 - 15s - 12ms/step - AUC: 0.9687 - loss: 0.0641 - val_AUC: 0.9347 - val_loss: 0.0831\n"
     ]
    },
    {
     "data": {
      "text/plain": [
       "<keras.src.callbacks.history.History at 0x209af6ad6a0>"
      ]
     },
     "execution_count": 104,
     "metadata": {},
     "output_type": "execute_result"
    }
   ],
   "source": [
    "early_stop = EarlyStopping(monitor='val_loss', patience=10, restore_best_weights=True)\n",
    "\n",
    "model.fit(\n",
    "    X_train, y_train,\n",
    "    validation_data=(X_val, y_val),\n",
    "    epochs=100,\n",
    "    batch_size=512,\n",
    "    callbacks=[early_stop],\n",
    "    verbose=2\n",
    ")"
   ]
  },
  {
   "cell_type": "code",
   "execution_count": 105,
   "id": "4863c9c1-33ea-4bab-a907-0f0b5ba61fa4",
   "metadata": {},
   "outputs": [
    {
     "name": "stdout",
     "output_type": "stream",
     "text": [
      "\u001b[1m4814/4814\u001b[0m \u001b[32m━━━━━━━━━━━━━━━━━━━━\u001b[0m\u001b[37m\u001b[0m \u001b[1m6s\u001b[0m 1ms/step\n"
     ]
    }
   ],
   "source": [
    "val_preds = model.predict(X_val).flatten()\n",
    "val_preds_scaled = MinMaxScaler().fit_transform(val_preds.reshape(-1, 1)).flatten()\n",
    "\n",
    "val_df = pd.DataFrame(X_val, columns=selected_features)\n",
    "val_df['customer_id'] = groups_val.values\n",
    "val_df['label'] = y_val.values\n",
    "val_df['pred'] = val_preds_scaled"
   ]
  },
  {
   "cell_type": "code",
   "execution_count": 106,
   "id": "6fe42ae4-4da9-4574-b670-a04f10e81804",
   "metadata": {},
   "outputs": [
    {
     "name": "stdout",
     "output_type": "stream",
     "text": [
      "MAP@5: 0.7831786234318997\n"
     ]
    }
   ],
   "source": [
    "def map_at_k(df, k=5):\n",
    "    average_precisions = []\n",
    "    for cid, group in df.groupby('customer_id'):\n",
    "        y_true = group.sort_values('pred', ascending=False)['label'].values[:k]\n",
    "        if y_true.sum() == 0:\n",
    "            continue\n",
    "        score = average_precision_score(y_true, np.arange(len(y_true), 0, -1))\n",
    "        average_precisions.append(score)\n",
    "    return np.mean(average_precisions)\n",
    "\n",
    "map5 = map_at_k(val_df, k=5)\n",
    "print(\"MAP@5:\", map5)"
   ]
  },
  {
   "cell_type": "markdown",
   "id": "ca15a33f-6da8-4e5b-9ba6-6cb3f66f0cd2",
   "metadata": {},
   "source": [
    "AutoML"
   ]
  },
  {
   "cell_type": "code",
   "execution_count": null,
   "id": "cd97e106-ee7d-49ac-ba36-122b542a0b2c",
   "metadata": {},
   "outputs": [],
   "source": [
    "# !pip install autogluon\n"
   ]
  },
  {
   "cell_type": "code",
   "execution_count": null,
   "id": "2fb6005d-7f96-4bc3-ba50-acad7c5209a3",
   "metadata": {},
   "outputs": [],
   "source": [
    "import pandas as pd\n",
    "import numpy as np\n",
    "from autogluon.tabular import TabularPredictor\n",
    "\n",
    "from sklearn.model_selection import train_test_split\n",
    "from sklearn.preprocessing import MinMaxScaler\n",
    "from sklearn.metrics import average_precision_score\n",
    "\n",
    "# Step 1: Clean column names\n",
    "def clean_column_names(df):\n",
    "    df.columns = df.columns.str.replace('[^A-Za-z0-9_]+', '_', regex=True)\n",
    "    return df\n",
    "\n",
    "df_train = clean_column_names(df_train)\n",
    "df_test = clean_column_names(df_test)\n",
    "\n",
    "# Step 2: Prepare train/val split\n",
    "exclude_cols = ['id1', 'id2', 'id3', 'id4', 'id5']\n",
    "features = [col for col in df_train.columns if col not in exclude_cols + ['y']]\n",
    "X = df_train[features + ['y', 'id2']]  # keep id2 for evaluation\n",
    "X_train, X_val = train_test_split(X, test_size=0.2, stratify=X['y'], random_state=42)\n",
    "\n",
    "# Step 3: Train AutoGluon\n",
    "label = 'y'\n",
    "predictor = TabularPredictor(label=label, eval_metric='roc_auc', verbosity=1).fit(\n",
    "    train_data=X_train,\n",
    "    time_limit=600,  # optional: seconds\n",
    "    presets='best_quality'  # slowest but strongest\n",
    ")\n",
    "\n",
    "# Step 4: Predict on validation set\n",
    "val_preds = predictor.predict_proba(X_val)[:, 1]  # probability for class 1\n",
    "\n",
    "# Step 5: Evaluate MAP@5\n",
    "val_df = X_val.copy()\n",
    "val_df['pred'] = MinMaxScaler().fit_transform(val_preds.reshape(-1, 1)).flatten()\n",
    "\n",
    "def map_at_k(df, k=5):\n",
    "    average_precisions = []\n",
    "    for cid, group in df.groupby('id2'):\n",
    "        y_true = group.sort_values('pred', ascending=False)['y'].values[:k]\n",
    "        if y_true.sum() == 0:\n",
    "            continue\n",
    "        score = average_precision_score(y_true, np.arange(len(y_true), 0, -1))\n",
    "        average_precisions.append(score)\n",
    "    return np.mean(average_precisions)\n",
    "\n",
    "map5 = map_at_k(val_df, k=5)\n",
    "print(\"MAP@5:\", map5)\n",
    "\n",
    "# # Step 6: Predict on test set\n",
    "# id_cols = df_test[['id1', 'id2', 'id3', 'id5']].copy()\n",
    "# df_test_filtered = df_test.drop(columns=[col for col in exclude_cols if col in df_test.columns])\n",
    "\n",
    "# # Fill missing columns (if any selected features were absent)\n",
    "# missing_cols = [col for col in features if col not in df_test_filtered.columns]\n",
    "# for col in missing_cols:\n",
    "#     df_test_filtered[col] = 0\n",
    "\n",
    "# X_test = df_test_filtered[features]\n",
    "# test_preds = predictor.predict_proba(X_test)[:, 1]\n",
    "# test_preds_scaled = MinMaxScaler().fit_transform(test_preds.reshape(-1, 1)).flatten()\n",
    "\n",
    "# # Step 7: Submission\n",
    "# submission = id_cols.copy()\n",
    "# submission['pred'] = test_preds_scaled\n",
    "# submission.to_csv('submission.csv', index=False)\n",
    "# print(\"✅ AutoGluon submission saved as 'submission.csv'\")\n"
   ]
  },
  {
   "cell_type": "code",
   "execution_count": null,
   "id": "40d88a7c-bbf1-4d8e-899c-f6690fdd7e61",
   "metadata": {},
   "outputs": [],
   "source": []
  }
 ],
 "metadata": {
  "kernelspec": {
   "display_name": "Python 3 (ipykernel)",
   "language": "python",
   "name": "python3"
  },
  "language_info": {
   "codemirror_mode": {
    "name": "ipython",
    "version": 3
   },
   "file_extension": ".py",
   "mimetype": "text/x-python",
   "name": "python",
   "nbconvert_exporter": "python",
   "pygments_lexer": "ipython3",
   "version": "3.12.3"
  }
 },
 "nbformat": 4,
 "nbformat_minor": 5
}
