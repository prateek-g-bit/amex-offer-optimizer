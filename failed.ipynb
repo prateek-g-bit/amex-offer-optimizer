{
 "cells": [
  {
   "cell_type": "code",
   "execution_count": 1,
   "id": "c20ee517-11de-4d75-a484-4efa7ccdf298",
   "metadata": {},
   "outputs": [],
   "source": [
    "import pandas as pd\n",
    "import numpy as np\n",
    "import matplotlib.pyplot as plt\n",
    "%matplotlib inline\n",
    "import seaborn as sns"
   ]
  },
  {
   "cell_type": "code",
   "execution_count": 2,
   "id": "19a05387-e523-461c-94a0-9178552777e5",
   "metadata": {},
   "outputs": [],
   "source": [
    "## uploading all data\n",
    "\n",
    "df_train=pd.read_parquet('train_data.parquet')\n",
    "df_test=pd.read_parquet('test_data.parquet')\n",
    "df_offer=pd.read_parquet('offer_metadata.parquet')\n",
    "df_dict=pd.read_csv('data_dictionary.csv')\n",
    "df_transaction=pd.read_parquet('add_trans.parquet')\n",
    "df_event=pd.read_parquet('add_event.parquet')"
   ]
  },
  {
   "cell_type": "code",
   "execution_count": 3,
   "id": "82f7efd9-7662-426d-ad91-0a89ef812074",
   "metadata": {},
   "outputs": [
    {
     "data": {
      "text/plain": [
       "[[(770164, 372)],\n",
       " [(369301, 371)],\n",
       " [(4164, 12)],\n",
       " [(372, 3)],\n",
       " [(6339465, 9)],\n",
       " [(21457473, 5)]]"
      ]
     },
     "execution_count": 3,
     "metadata": {},
     "output_type": "execute_result"
    }
   ],
   "source": [
    "x=[[df_train.shape],[df_test.shape],[df_offer.shape],[df_dict.shape],[df_transaction.shape],[df_event.shape]]\n",
    "x"
   ]
  },
  {
   "cell_type": "code",
   "execution_count": 4,
   "id": "ec399b3b-5a06-4b3c-b538-5615c2d480c3",
   "metadata": {},
   "outputs": [],
   "source": [
    "# df_train.isnull().sum()"
   ]
  },
  {
   "cell_type": "code",
   "execution_count": 5,
   "id": "14eb1e45-3085-43d9-994f-da533589b2a4",
   "metadata": {},
   "outputs": [],
   "source": [
    "# df_dict['Type']=='Categorical'"
   ]
  },
  {
   "cell_type": "code",
   "execution_count": 6,
   "id": "5594fed7-c34e-46f0-93ce-9bed27c01094",
   "metadata": {},
   "outputs": [],
   "source": [
    "# columns=[[df_train.columns],[df_test.columns],[df_offer.columns],[df_dict.columns],[df_transaction.columns],[df_event.columns]]\n",
    "# columns"
   ]
  },
  {
   "cell_type": "code",
   "execution_count": 7,
   "id": "1f85a617-1b64-4efa-8f34-26d1e11a2b16",
   "metadata": {},
   "outputs": [],
   "source": [
    "# '1' in df_train['y'].values\n"
   ]
  },
  {
   "cell_type": "code",
   "execution_count": 8,
   "id": "1786e32b-0b9d-4205-9cf7-ff179577027a",
   "metadata": {},
   "outputs": [],
   "source": [
    "# df_train.head()"
   ]
  },
  {
   "cell_type": "code",
   "execution_count": 9,
   "id": "052981c7-1859-4c10-ab11-c8cf9b515093",
   "metadata": {},
   "outputs": [],
   "source": [
    "# df_dict.head()"
   ]
  },
  {
   "cell_type": "code",
   "execution_count": 10,
   "id": "6563c448-4c69-4c4d-b52e-4f36f985cb3c",
   "metadata": {},
   "outputs": [],
   "source": [
    "## mapping the column id to their actual names from df_dict dataframe\n",
    "\n",
    "id_to_name=dict(zip(df_dict['masked_column'],df_dict['Description']))"
   ]
  },
  {
   "cell_type": "code",
   "execution_count": 11,
   "id": "30cd2bd4-b697-4040-90eb-7427146e396e",
   "metadata": {},
   "outputs": [],
   "source": [
    "df_train1=df_train.rename(columns=id_to_name)"
   ]
  },
  {
   "cell_type": "code",
   "execution_count": 12,
   "id": "e203dcf2-7e5e-46cc-917e-abf8fa802f6a",
   "metadata": {},
   "outputs": [],
   "source": [
    "# df_train1.head()"
   ]
  },
  {
   "cell_type": "code",
   "execution_count": 13,
   "id": "72a4e089-5d31-435e-81e7-5ca249613ef9",
   "metadata": {},
   "outputs": [],
   "source": [
    "# df_offer.head()"
   ]
  },
  {
   "cell_type": "code",
   "execution_count": 14,
   "id": "15a2044c-1380-457a-8eaf-8036ba6c0fce",
   "metadata": {},
   "outputs": [
    {
     "data": {
      "text/plain": [
       "(4164, 12)"
      ]
     },
     "execution_count": 14,
     "metadata": {},
     "output_type": "execute_result"
    }
   ],
   "source": [
    "df_offer.shape"
   ]
  },
  {
   "cell_type": "code",
   "execution_count": 15,
   "id": "5c0f7fdf-8126-428b-896e-c44bb91bcf3e",
   "metadata": {},
   "outputs": [],
   "source": [
    "# df_offer1=df_offer.rename(columns=id_to_name)"
   ]
  },
  {
   "cell_type": "code",
   "execution_count": 16,
   "id": "9c201c95-1e87-4b3a-a179-06cd68c7354f",
   "metadata": {},
   "outputs": [],
   "source": [
    "# df_offer1.head()"
   ]
  },
  {
   "cell_type": "code",
   "execution_count": 17,
   "id": "3eb14e3c-6973-4c6b-aedb-c0c33bdf23b6",
   "metadata": {},
   "outputs": [],
   "source": [
    "# df_offer1.isnull().sum()"
   ]
  },
  {
   "cell_type": "code",
   "execution_count": 18,
   "id": "9637fd40-b19c-439e-a45e-6990335464e8",
   "metadata": {},
   "outputs": [
    {
     "data": {
      "text/html": [
       "<div>\n",
       "<style scoped>\n",
       "    .dataframe tbody tr th:only-of-type {\n",
       "        vertical-align: middle;\n",
       "    }\n",
       "\n",
       "    .dataframe tbody tr th {\n",
       "        vertical-align: top;\n",
       "    }\n",
       "\n",
       "    .dataframe thead th {\n",
       "        text-align: right;\n",
       "    }\n",
       "</style>\n",
       "<table border=\"1\" class=\"dataframe\">\n",
       "  <thead>\n",
       "    <tr style=\"text-align: right;\">\n",
       "      <th></th>\n",
       "      <th>id1</th>\n",
       "      <th>id2</th>\n",
       "      <th>id3</th>\n",
       "      <th>id4</th>\n",
       "      <th>id5</th>\n",
       "      <th>y</th>\n",
       "      <th>f1</th>\n",
       "      <th>f2</th>\n",
       "      <th>f3</th>\n",
       "      <th>f4</th>\n",
       "      <th>...</th>\n",
       "      <th>f357</th>\n",
       "      <th>f358</th>\n",
       "      <th>f359</th>\n",
       "      <th>f360</th>\n",
       "      <th>f361</th>\n",
       "      <th>f362</th>\n",
       "      <th>f363</th>\n",
       "      <th>f364</th>\n",
       "      <th>f365</th>\n",
       "      <th>f366</th>\n",
       "    </tr>\n",
       "  </thead>\n",
       "  <tbody>\n",
       "    <tr>\n",
       "      <th>count</th>\n",
       "      <td>770164</td>\n",
       "      <td>770164</td>\n",
       "      <td>770164</td>\n",
       "      <td>770164</td>\n",
       "      <td>770164</td>\n",
       "      <td>770164</td>\n",
       "      <td>278506</td>\n",
       "      <td>322972</td>\n",
       "      <td>108562</td>\n",
       "      <td>68869</td>\n",
       "      <td>...</td>\n",
       "      <td>587734</td>\n",
       "      <td>628173</td>\n",
       "      <td>727175</td>\n",
       "      <td>232</td>\n",
       "      <td>654412</td>\n",
       "      <td>654412</td>\n",
       "      <td>654412</td>\n",
       "      <td>661850</td>\n",
       "      <td>661850</td>\n",
       "      <td>661850</td>\n",
       "    </tr>\n",
       "    <tr>\n",
       "      <th>unique</th>\n",
       "      <td>770164</td>\n",
       "      <td>46550</td>\n",
       "      <td>757</td>\n",
       "      <td>763371</td>\n",
       "      <td>3</td>\n",
       "      <td>2</td>\n",
       "      <td>82</td>\n",
       "      <td>88</td>\n",
       "      <td>74</td>\n",
       "      <td>65</td>\n",
       "      <td>...</td>\n",
       "      <td>2305</td>\n",
       "      <td>2150</td>\n",
       "      <td>2</td>\n",
       "      <td>1</td>\n",
       "      <td>1951</td>\n",
       "      <td>110</td>\n",
       "      <td>8398</td>\n",
       "      <td>3893</td>\n",
       "      <td>505</td>\n",
       "      <td>18084</td>\n",
       "    </tr>\n",
       "    <tr>\n",
       "      <th>top</th>\n",
       "      <td>1366776_189706075_16-23_2023-11-02 22:22:00.042</td>\n",
       "      <td>1396352</td>\n",
       "      <td>92636</td>\n",
       "      <td>2023-11-01 08:57:21.690</td>\n",
       "      <td>2023-11-01</td>\n",
       "      <td>0</td>\n",
       "      <td>13.0</td>\n",
       "      <td>9.0</td>\n",
       "      <td>1.0</td>\n",
       "      <td>1.0</td>\n",
       "      <td>...</td>\n",
       "      <td>0.0</td>\n",
       "      <td>-9999.0</td>\n",
       "      <td>0.0</td>\n",
       "      <td>1.0</td>\n",
       "      <td>1.0</td>\n",
       "      <td>0.0</td>\n",
       "      <td>0.0</td>\n",
       "      <td>51.0</td>\n",
       "      <td>0.0</td>\n",
       "      <td>0.0</td>\n",
       "    </tr>\n",
       "    <tr>\n",
       "      <th>freq</th>\n",
       "      <td>1</td>\n",
       "      <td>510</td>\n",
       "      <td>2446</td>\n",
       "      <td>5</td>\n",
       "      <td>301698</td>\n",
       "      <td>733113</td>\n",
       "      <td>42443</td>\n",
       "      <td>33756</td>\n",
       "      <td>19425</td>\n",
       "      <td>14848</td>\n",
       "      <td>...</td>\n",
       "      <td>13352</td>\n",
       "      <td>53759</td>\n",
       "      <td>725345</td>\n",
       "      <td>232</td>\n",
       "      <td>42543</td>\n",
       "      <td>418293</td>\n",
       "      <td>418293</td>\n",
       "      <td>6773</td>\n",
       "      <td>205968</td>\n",
       "      <td>205968</td>\n",
       "    </tr>\n",
       "  </tbody>\n",
       "</table>\n",
       "<p>4 rows × 372 columns</p>\n",
       "</div>"
      ],
      "text/plain": [
       "                                                    id1      id2     id3  \\\n",
       "count                                            770164   770164  770164   \n",
       "unique                                           770164    46550     757   \n",
       "top     1366776_189706075_16-23_2023-11-02 22:22:00.042  1396352   92636   \n",
       "freq                                                  1      510    2446   \n",
       "\n",
       "                            id4         id5       y      f1      f2      f3  \\\n",
       "count                    770164      770164  770164  278506  322972  108562   \n",
       "unique                   763371           3       2      82      88      74   \n",
       "top     2023-11-01 08:57:21.690  2023-11-01       0    13.0     9.0     1.0   \n",
       "freq                          5      301698  733113   42443   33756   19425   \n",
       "\n",
       "           f4  ...    f357     f358    f359 f360    f361    f362    f363  \\\n",
       "count   68869  ...  587734   628173  727175  232  654412  654412  654412   \n",
       "unique     65  ...    2305     2150       2    1    1951     110    8398   \n",
       "top       1.0  ...     0.0  -9999.0     0.0  1.0     1.0     0.0     0.0   \n",
       "freq    14848  ...   13352    53759  725345  232   42543  418293  418293   \n",
       "\n",
       "          f364    f365    f366  \n",
       "count   661850  661850  661850  \n",
       "unique    3893     505   18084  \n",
       "top       51.0     0.0     0.0  \n",
       "freq      6773  205968  205968  \n",
       "\n",
       "[4 rows x 372 columns]"
      ]
     },
     "execution_count": 18,
     "metadata": {},
     "output_type": "execute_result"
    }
   ],
   "source": [
    "df_train.describe()"
   ]
  },
  {
   "cell_type": "code",
   "execution_count": 19,
   "id": "e8042eb3-68ac-4724-a503-13e82a6f2854",
   "metadata": {},
   "outputs": [
    {
     "data": {
      "text/plain": [
       "dtype('O')"
      ]
     },
     "execution_count": 19,
     "metadata": {},
     "output_type": "execute_result"
    }
   ],
   "source": [
    "df_train['id2'].dtype"
   ]
  },
  {
   "cell_type": "code",
   "execution_count": 20,
   "id": "209f0910-1333-4c77-8f1e-544310a11980",
   "metadata": {},
   "outputs": [
    {
     "data": {
      "text/plain": [
       "(770164, 372)"
      ]
     },
     "execution_count": 20,
     "metadata": {},
     "output_type": "execute_result"
    }
   ],
   "source": [
    "df_train.shape"
   ]
  },
  {
   "cell_type": "code",
   "execution_count": 21,
   "id": "b225eff0-cf83-4044-9892-4e800625a033",
   "metadata": {},
   "outputs": [],
   "source": [
    "# import tensorflow as tf\n",
    "# from tensorflow.keras import Sequential\n",
    "# from tensorflow.keras.layers import Dense\n",
    "# from sklearn.model_selection import train_test_split"
   ]
  },
  {
   "cell_type": "code",
   "execution_count": 22,
   "id": "e803ee1a-1a94-40b7-957a-f427e3c16ab0",
   "metadata": {},
   "outputs": [],
   "source": [
    "X=df_train.drop(columns=['y'])\n",
    "y=df_train['y']"
   ]
  },
  {
   "cell_type": "code",
   "execution_count": 23,
   "id": "326c12d6-040b-4714-a5a4-904da4aecfd0",
   "metadata": {},
   "outputs": [],
   "source": [
    "X1=X.drop(columns=['id1', 'id2', 'id3', 'id4', 'id5'])\n"
   ]
  },
  {
   "cell_type": "code",
   "execution_count": 36,
   "id": "7d9d744d-2a77-4783-88ee-517334a6c1b2",
   "metadata": {},
   "outputs": [],
   "source": [
    "X1['f1'] = X1['f1'].fillna(0)\n",
    "X1['f1'].unique()\n",
    "X1['f1'] = pd.to_numeric(X1['f1'], errors='coerce')"
   ]
  },
  {
   "cell_type": "code",
   "execution_count": 47,
   "id": "17c1fe7c-440b-4dc0-90a3-a71d0297f721",
   "metadata": {},
   "outputs": [
    {
     "data": {
      "text/plain": [
       "array([0.])"
      ]
     },
     "execution_count": 47,
     "metadata": {},
     "output_type": "execute_result"
    }
   ],
   "source": [
    "X1['f42'].unique()"
   ]
  },
  {
   "cell_type": "code",
   "execution_count": 44,
   "id": "2605a02a-352e-4e7d-94ee-234d4207d9f8",
   "metadata": {},
   "outputs": [],
   "source": [
    "cols_to_convert = [f'f{i}' for i in range(2, 52)]  # f1 to f51\n",
    "\n",
    "# Convert each column to numeric, replacing 'None'/invalids with NaN\n",
    "X1[cols_to_convert] = X1[cols_to_convert].apply(pd.to_numeric, errors='coerce')\n",
    "X1[cols_to_convert] = X1[cols_to_convert].fillna(0)\n"
   ]
  },
  {
   "cell_type": "code",
   "execution_count": 26,
   "id": "96cc190c-af47-42bd-9341-acf5adb9231a",
   "metadata": {},
   "outputs": [
    {
     "name": "stdout",
     "output_type": "stream",
     "text": [
      "<class 'pandas.core.series.Series'>\n",
      "RangeIndex: 770164 entries, 0 to 770163\n",
      "Series name: y\n",
      "Non-Null Count   Dtype\n",
      "--------------   -----\n",
      "770164 non-null  int64\n",
      "dtypes: int64(1)\n",
      "memory usage: 5.9 MB\n"
     ]
    }
   ],
   "source": [
    "y = y.astype(int)\n",
    "y.info()"
   ]
  },
  {
   "cell_type": "code",
   "execution_count": 27,
   "id": "d591288c-b3b0-46de-acde-ab4f47b422ff",
   "metadata": {},
   "outputs": [],
   "source": [
    "# X_train,X_test,y_train,y_test=train_test_split(X2,y,test_size=0.2,random_state=42)"
   ]
  },
  {
   "cell_type": "code",
   "execution_count": 28,
   "id": "14798942-f2db-42de-9662-28b23f4f59f4",
   "metadata": {},
   "outputs": [],
   "source": [
    "# model=Sequential()"
   ]
  },
  {
   "cell_type": "code",
   "execution_count": 29,
   "id": "166650ec-ece2-405f-be67-db1ee24ccf8e",
   "metadata": {},
   "outputs": [],
   "source": [
    "# model.add(Dense(256,activation='relu',input_dim=371))\n",
    "# model.add(Dense(256,activation='relu'))\n",
    "# model.add(Dense(256,activation='relu'))\n",
    "# model.add(Dense(256,activation='relu'))\n",
    "# model.add(Dense(256,activation='relu'))\n",
    "# model.add(Dense(256,activation='relu'))\n",
    "# model.add(Dense(256,activation='relu'))\n",
    "# model.add(Dense(256,activation='relu'))\n",
    "# model.add(Dense(256,activation='relu'))\n",
    "# model.add(Dense(256,activation='relu'))\n",
    "# model.add(Dense(1,activation='sigmoid'))\n",
    "\n"
   ]
  },
  {
   "cell_type": "code",
   "execution_count": 30,
   "id": "30e11df3-5625-4f43-8b49-cc16902a2f5d",
   "metadata": {},
   "outputs": [],
   "source": [
    "# model.summary()"
   ]
  },
  {
   "cell_type": "code",
   "execution_count": 31,
   "id": "e4ef6692-c9c2-4e6d-bf4f-9142f5937a50",
   "metadata": {},
   "outputs": [],
   "source": [
    "# model.compile(loss='binary_crossentropy',optimizer='Adam',metrics=['accuracy'])\n",
    "\n",
    "# early_stopping = tf.keras.callbacks.EarlyStopping(\n",
    "#    monitor='val_loss',  # Metric to monitor\n",
    "#    patience=10,         # Number of epochs with no improvement after which training will be stopped\n",
    "#    restore_best_weights=True # Restore model weights from the epoch with the best value of the monitored quantity\n",
    "# )"
   ]
  },
  {
   "cell_type": "code",
   "execution_count": 32,
   "id": "8321dc9d-c8c9-46d0-bc29-4a2b01187d6b",
   "metadata": {},
   "outputs": [],
   "source": [
    "# df_train['y'].unique()\n"
   ]
  },
  {
   "cell_type": "code",
   "execution_count": 33,
   "id": "d302bb72-9d62-46ac-884d-84c0a49908c8",
   "metadata": {},
   "outputs": [],
   "source": [
    "# history=model.fit(X_train,y_train,epochs=500,validation_split=0.2,batch_size=32,callbacks=[early_stopping])"
   ]
  },
  {
   "cell_type": "code",
   "execution_count": null,
   "id": "5a5a0ef4-a621-4806-ac9b-20a1bbd05cd6",
   "metadata": {},
   "outputs": [],
   "source": []
  }
 ],
 "metadata": {
  "kernelspec": {
   "display_name": "Python 3 (ipykernel)",
   "language": "python",
   "name": "python3"
  },
  "language_info": {
   "codemirror_mode": {
    "name": "ipython",
    "version": 3
   },
   "file_extension": ".py",
   "mimetype": "text/x-python",
   "name": "python",
   "nbconvert_exporter": "python",
   "pygments_lexer": "ipython3",
   "version": "3.12.3"
  }
 },
 "nbformat": 4,
 "nbformat_minor": 5
}
